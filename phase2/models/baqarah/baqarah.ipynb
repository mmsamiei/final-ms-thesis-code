{
  "nbformat": 4,
  "nbformat_minor": 0,
  "metadata": {
    "colab": {
      "name": "Untitled142.ipynb",
      "provenance": [],
      "collapsed_sections": [],
      "toc_visible": true,
      "include_colab_link": true
    },
    "kernelspec": {
      "name": "python3",
      "display_name": "Python 3"
    },
    "accelerator": "GPU",
    "widgets": {
      "application/vnd.jupyter.widget-state+json": {
        "4779f9ed58554b53a824b5a876385edf": {
          "model_module": "@jupyter-widgets/controls",
          "model_name": "HBoxModel",
          "state": {
            "_view_name": "HBoxView",
            "_dom_classes": [],
            "_model_name": "HBoxModel",
            "_view_module": "@jupyter-widgets/controls",
            "_model_module_version": "1.5.0",
            "_view_count": null,
            "_view_module_version": "1.5.0",
            "box_style": "",
            "layout": "IPY_MODEL_55aad79314484d80b8dc75bc6c52ccc1",
            "_model_module": "@jupyter-widgets/controls",
            "children": [
              "IPY_MODEL_c3210ff8fa434efeb265707f9348c7d6",
              "IPY_MODEL_ccb262e321674acd9a83ef1b27d40416"
            ]
          }
        },
        "55aad79314484d80b8dc75bc6c52ccc1": {
          "model_module": "@jupyter-widgets/base",
          "model_name": "LayoutModel",
          "state": {
            "_view_name": "LayoutView",
            "grid_template_rows": null,
            "right": null,
            "justify_content": null,
            "_view_module": "@jupyter-widgets/base",
            "overflow": null,
            "_model_module_version": "1.2.0",
            "_view_count": null,
            "flex_flow": null,
            "width": null,
            "min_width": null,
            "border": null,
            "align_items": null,
            "bottom": null,
            "_model_module": "@jupyter-widgets/base",
            "top": null,
            "grid_column": null,
            "overflow_y": null,
            "overflow_x": null,
            "grid_auto_flow": null,
            "grid_area": null,
            "grid_template_columns": null,
            "flex": null,
            "_model_name": "LayoutModel",
            "justify_items": null,
            "grid_row": null,
            "max_height": null,
            "align_content": null,
            "visibility": null,
            "align_self": null,
            "height": null,
            "min_height": null,
            "padding": null,
            "grid_auto_rows": null,
            "grid_gap": null,
            "max_width": null,
            "order": null,
            "_view_module_version": "1.2.0",
            "grid_template_areas": null,
            "object_position": null,
            "object_fit": null,
            "grid_auto_columns": null,
            "margin": null,
            "display": null,
            "left": null
          }
        },
        "c3210ff8fa434efeb265707f9348c7d6": {
          "model_module": "@jupyter-widgets/controls",
          "model_name": "FloatProgressModel",
          "state": {
            "_view_name": "ProgressView",
            "style": "IPY_MODEL_357fc2c0f664444ea8a08d95c076a7e0",
            "_dom_classes": [],
            "description": "",
            "_model_name": "FloatProgressModel",
            "bar_style": "danger",
            "max": 1,
            "_view_module": "@jupyter-widgets/controls",
            "_model_module_version": "1.5.0",
            "value": 1,
            "_view_count": null,
            "_view_module_version": "1.5.0",
            "orientation": "horizontal",
            "min": 0,
            "description_tooltip": null,
            "_model_module": "@jupyter-widgets/controls",
            "layout": "IPY_MODEL_19c5ce4a5d2144aa86dea6ca4be03b5a"
          }
        },
        "ccb262e321674acd9a83ef1b27d40416": {
          "model_module": "@jupyter-widgets/controls",
          "model_name": "HTMLModel",
          "state": {
            "_view_name": "HTMLView",
            "style": "IPY_MODEL_7a49bc3a3355456da904c666b4ce0ef6",
            "_dom_classes": [],
            "description": "",
            "_model_name": "HTMLModel",
            "placeholder": "​",
            "_view_module": "@jupyter-widgets/controls",
            "_model_module_version": "1.5.0",
            "value": " 3/? [00:01&lt;00:00,  1.57it/s]",
            "_view_count": null,
            "_view_module_version": "1.5.0",
            "description_tooltip": null,
            "_model_module": "@jupyter-widgets/controls",
            "layout": "IPY_MODEL_5620412b8d4e4488bd6319658e0e7a30"
          }
        },
        "357fc2c0f664444ea8a08d95c076a7e0": {
          "model_module": "@jupyter-widgets/controls",
          "model_name": "ProgressStyleModel",
          "state": {
            "_view_name": "StyleView",
            "_model_name": "ProgressStyleModel",
            "description_width": "initial",
            "_view_module": "@jupyter-widgets/base",
            "_model_module_version": "1.5.0",
            "_view_count": null,
            "_view_module_version": "1.2.0",
            "bar_color": null,
            "_model_module": "@jupyter-widgets/controls"
          }
        },
        "19c5ce4a5d2144aa86dea6ca4be03b5a": {
          "model_module": "@jupyter-widgets/base",
          "model_name": "LayoutModel",
          "state": {
            "_view_name": "LayoutView",
            "grid_template_rows": null,
            "right": null,
            "justify_content": null,
            "_view_module": "@jupyter-widgets/base",
            "overflow": null,
            "_model_module_version": "1.2.0",
            "_view_count": null,
            "flex_flow": null,
            "width": null,
            "min_width": null,
            "border": null,
            "align_items": null,
            "bottom": null,
            "_model_module": "@jupyter-widgets/base",
            "top": null,
            "grid_column": null,
            "overflow_y": null,
            "overflow_x": null,
            "grid_auto_flow": null,
            "grid_area": null,
            "grid_template_columns": null,
            "flex": null,
            "_model_name": "LayoutModel",
            "justify_items": null,
            "grid_row": null,
            "max_height": null,
            "align_content": null,
            "visibility": null,
            "align_self": null,
            "height": null,
            "min_height": null,
            "padding": null,
            "grid_auto_rows": null,
            "grid_gap": null,
            "max_width": null,
            "order": null,
            "_view_module_version": "1.2.0",
            "grid_template_areas": null,
            "object_position": null,
            "object_fit": null,
            "grid_auto_columns": null,
            "margin": null,
            "display": null,
            "left": null
          }
        },
        "7a49bc3a3355456da904c666b4ce0ef6": {
          "model_module": "@jupyter-widgets/controls",
          "model_name": "DescriptionStyleModel",
          "state": {
            "_view_name": "StyleView",
            "_model_name": "DescriptionStyleModel",
            "description_width": "",
            "_view_module": "@jupyter-widgets/base",
            "_model_module_version": "1.5.0",
            "_view_count": null,
            "_view_module_version": "1.2.0",
            "_model_module": "@jupyter-widgets/controls"
          }
        },
        "5620412b8d4e4488bd6319658e0e7a30": {
          "model_module": "@jupyter-widgets/base",
          "model_name": "LayoutModel",
          "state": {
            "_view_name": "LayoutView",
            "grid_template_rows": null,
            "right": null,
            "justify_content": null,
            "_view_module": "@jupyter-widgets/base",
            "overflow": null,
            "_model_module_version": "1.2.0",
            "_view_count": null,
            "flex_flow": null,
            "width": null,
            "min_width": null,
            "border": null,
            "align_items": null,
            "bottom": null,
            "_model_module": "@jupyter-widgets/base",
            "top": null,
            "grid_column": null,
            "overflow_y": null,
            "overflow_x": null,
            "grid_auto_flow": null,
            "grid_area": null,
            "grid_template_columns": null,
            "flex": null,
            "_model_name": "LayoutModel",
            "justify_items": null,
            "grid_row": null,
            "max_height": null,
            "align_content": null,
            "visibility": null,
            "align_self": null,
            "height": null,
            "min_height": null,
            "padding": null,
            "grid_auto_rows": null,
            "grid_gap": null,
            "max_width": null,
            "order": null,
            "_view_module_version": "1.2.0",
            "grid_template_areas": null,
            "object_position": null,
            "object_fit": null,
            "grid_auto_columns": null,
            "margin": null,
            "display": null,
            "left": null
          }
        },
        "78a92278860946a080996bc1decaf010": {
          "model_module": "@jupyter-widgets/controls",
          "model_name": "HBoxModel",
          "state": {
            "_view_name": "HBoxView",
            "_dom_classes": [],
            "_model_name": "HBoxModel",
            "_view_module": "@jupyter-widgets/controls",
            "_model_module_version": "1.5.0",
            "_view_count": null,
            "_view_module_version": "1.5.0",
            "box_style": "",
            "layout": "IPY_MODEL_fd2b92ecd1a34263a03c23a91680d2ce",
            "_model_module": "@jupyter-widgets/controls",
            "children": [
              "IPY_MODEL_e2c448967cdd45f799c6919c4057f1e9",
              "IPY_MODEL_fc35a2b2e42844d785090bde5d557a2f"
            ]
          }
        },
        "fd2b92ecd1a34263a03c23a91680d2ce": {
          "model_module": "@jupyter-widgets/base",
          "model_name": "LayoutModel",
          "state": {
            "_view_name": "LayoutView",
            "grid_template_rows": null,
            "right": null,
            "justify_content": null,
            "_view_module": "@jupyter-widgets/base",
            "overflow": null,
            "_model_module_version": "1.2.0",
            "_view_count": null,
            "flex_flow": null,
            "width": null,
            "min_width": null,
            "border": null,
            "align_items": null,
            "bottom": null,
            "_model_module": "@jupyter-widgets/base",
            "top": null,
            "grid_column": null,
            "overflow_y": null,
            "overflow_x": null,
            "grid_auto_flow": null,
            "grid_area": null,
            "grid_template_columns": null,
            "flex": null,
            "_model_name": "LayoutModel",
            "justify_items": null,
            "grid_row": null,
            "max_height": null,
            "align_content": null,
            "visibility": null,
            "align_self": null,
            "height": null,
            "min_height": null,
            "padding": null,
            "grid_auto_rows": null,
            "grid_gap": null,
            "max_width": null,
            "order": null,
            "_view_module_version": "1.2.0",
            "grid_template_areas": null,
            "object_position": null,
            "object_fit": null,
            "grid_auto_columns": null,
            "margin": null,
            "display": null,
            "left": null
          }
        },
        "e2c448967cdd45f799c6919c4057f1e9": {
          "model_module": "@jupyter-widgets/controls",
          "model_name": "FloatProgressModel",
          "state": {
            "_view_name": "ProgressView",
            "style": "IPY_MODEL_c660c46499d840dc9ee167608fde1fe6",
            "_dom_classes": [],
            "description": "Downloading: 100%",
            "_model_name": "FloatProgressModel",
            "bar_style": "success",
            "max": 38763567,
            "_view_module": "@jupyter-widgets/controls",
            "_model_module_version": "1.5.0",
            "value": 38763567,
            "_view_count": null,
            "_view_module_version": "1.5.0",
            "orientation": "horizontal",
            "min": 0,
            "description_tooltip": null,
            "_model_module": "@jupyter-widgets/controls",
            "layout": "IPY_MODEL_38b01dee2157497ab8d2203657fce402"
          }
        },
        "fc35a2b2e42844d785090bde5d557a2f": {
          "model_module": "@jupyter-widgets/controls",
          "model_name": "HTMLModel",
          "state": {
            "_view_name": "HTMLView",
            "style": "IPY_MODEL_a4e48b13c6dd4a0fb6740d875a505191",
            "_dom_classes": [],
            "description": "",
            "_model_name": "HTMLModel",
            "placeholder": "​",
            "_view_module": "@jupyter-widgets/controls",
            "_model_module_version": "1.5.0",
            "value": " 38.8M/38.8M [00:01&lt;00:00, 24.3MB/s]",
            "_view_count": null,
            "_view_module_version": "1.5.0",
            "description_tooltip": null,
            "_model_module": "@jupyter-widgets/controls",
            "layout": "IPY_MODEL_5e3a620f6f5047e6820c7b9c7a4c34b9"
          }
        },
        "c660c46499d840dc9ee167608fde1fe6": {
          "model_module": "@jupyter-widgets/controls",
          "model_name": "ProgressStyleModel",
          "state": {
            "_view_name": "StyleView",
            "_model_name": "ProgressStyleModel",
            "description_width": "initial",
            "_view_module": "@jupyter-widgets/base",
            "_model_module_version": "1.5.0",
            "_view_count": null,
            "_view_module_version": "1.2.0",
            "bar_color": null,
            "_model_module": "@jupyter-widgets/controls"
          }
        },
        "38b01dee2157497ab8d2203657fce402": {
          "model_module": "@jupyter-widgets/base",
          "model_name": "LayoutModel",
          "state": {
            "_view_name": "LayoutView",
            "grid_template_rows": null,
            "right": null,
            "justify_content": null,
            "_view_module": "@jupyter-widgets/base",
            "overflow": null,
            "_model_module_version": "1.2.0",
            "_view_count": null,
            "flex_flow": null,
            "width": null,
            "min_width": null,
            "border": null,
            "align_items": null,
            "bottom": null,
            "_model_module": "@jupyter-widgets/base",
            "top": null,
            "grid_column": null,
            "overflow_y": null,
            "overflow_x": null,
            "grid_auto_flow": null,
            "grid_area": null,
            "grid_template_columns": null,
            "flex": null,
            "_model_name": "LayoutModel",
            "justify_items": null,
            "grid_row": null,
            "max_height": null,
            "align_content": null,
            "visibility": null,
            "align_self": null,
            "height": null,
            "min_height": null,
            "padding": null,
            "grid_auto_rows": null,
            "grid_gap": null,
            "max_width": null,
            "order": null,
            "_view_module_version": "1.2.0",
            "grid_template_areas": null,
            "object_position": null,
            "object_fit": null,
            "grid_auto_columns": null,
            "margin": null,
            "display": null,
            "left": null
          }
        },
        "a4e48b13c6dd4a0fb6740d875a505191": {
          "model_module": "@jupyter-widgets/controls",
          "model_name": "DescriptionStyleModel",
          "state": {
            "_view_name": "StyleView",
            "_model_name": "DescriptionStyleModel",
            "description_width": "",
            "_view_module": "@jupyter-widgets/base",
            "_model_module_version": "1.5.0",
            "_view_count": null,
            "_view_module_version": "1.2.0",
            "_model_module": "@jupyter-widgets/controls"
          }
        },
        "5e3a620f6f5047e6820c7b9c7a4c34b9": {
          "model_module": "@jupyter-widgets/base",
          "model_name": "LayoutModel",
          "state": {
            "_view_name": "LayoutView",
            "grid_template_rows": null,
            "right": null,
            "justify_content": null,
            "_view_module": "@jupyter-widgets/base",
            "overflow": null,
            "_model_module_version": "1.2.0",
            "_view_count": null,
            "flex_flow": null,
            "width": null,
            "min_width": null,
            "border": null,
            "align_items": null,
            "bottom": null,
            "_model_module": "@jupyter-widgets/base",
            "top": null,
            "grid_column": null,
            "overflow_y": null,
            "overflow_x": null,
            "grid_auto_flow": null,
            "grid_area": null,
            "grid_template_columns": null,
            "flex": null,
            "_model_name": "LayoutModel",
            "justify_items": null,
            "grid_row": null,
            "max_height": null,
            "align_content": null,
            "visibility": null,
            "align_self": null,
            "height": null,
            "min_height": null,
            "padding": null,
            "grid_auto_rows": null,
            "grid_gap": null,
            "max_width": null,
            "order": null,
            "_view_module_version": "1.2.0",
            "grid_template_areas": null,
            "object_position": null,
            "object_fit": null,
            "grid_auto_columns": null,
            "margin": null,
            "display": null,
            "left": null
          }
        },
        "fd21f4f9a0404cdb98fa8a54a60169b2": {
          "model_module": "@jupyter-widgets/controls",
          "model_name": "HBoxModel",
          "state": {
            "_view_name": "HBoxView",
            "_dom_classes": [],
            "_model_name": "HBoxModel",
            "_view_module": "@jupyter-widgets/controls",
            "_model_module_version": "1.5.0",
            "_view_count": null,
            "_view_module_version": "1.5.0",
            "box_style": "",
            "layout": "IPY_MODEL_1622d2479d79484d8d96f8c3f077371a",
            "_model_module": "@jupyter-widgets/controls",
            "children": [
              "IPY_MODEL_80ea75c9282a4feebf3e636f9ce35475",
              "IPY_MODEL_eb15b29805dc482684b9c53c112a01a4"
            ]
          }
        },
        "1622d2479d79484d8d96f8c3f077371a": {
          "model_module": "@jupyter-widgets/base",
          "model_name": "LayoutModel",
          "state": {
            "_view_name": "LayoutView",
            "grid_template_rows": null,
            "right": null,
            "justify_content": null,
            "_view_module": "@jupyter-widgets/base",
            "overflow": null,
            "_model_module_version": "1.2.0",
            "_view_count": null,
            "flex_flow": null,
            "width": null,
            "min_width": null,
            "border": null,
            "align_items": null,
            "bottom": null,
            "_model_module": "@jupyter-widgets/base",
            "top": null,
            "grid_column": null,
            "overflow_y": null,
            "overflow_x": null,
            "grid_auto_flow": null,
            "grid_area": null,
            "grid_template_columns": null,
            "flex": null,
            "_model_name": "LayoutModel",
            "justify_items": null,
            "grid_row": null,
            "max_height": null,
            "align_content": null,
            "visibility": null,
            "align_self": null,
            "height": null,
            "min_height": null,
            "padding": null,
            "grid_auto_rows": null,
            "grid_gap": null,
            "max_width": null,
            "order": null,
            "_view_module_version": "1.2.0",
            "grid_template_areas": null,
            "object_position": null,
            "object_fit": null,
            "grid_auto_columns": null,
            "margin": null,
            "display": null,
            "left": null
          }
        },
        "80ea75c9282a4feebf3e636f9ce35475": {
          "model_module": "@jupyter-widgets/controls",
          "model_name": "FloatProgressModel",
          "state": {
            "_view_name": "ProgressView",
            "style": "IPY_MODEL_69db577813ed4e2c96046c055a47306f",
            "_dom_classes": [],
            "description": "  4%",
            "_model_name": "FloatProgressModel",
            "bar_style": "",
            "max": 21685,
            "_view_module": "@jupyter-widgets/controls",
            "_model_module_version": "1.5.0",
            "value": 965,
            "_view_count": null,
            "_view_module_version": "1.5.0",
            "orientation": "horizontal",
            "min": 0,
            "description_tooltip": null,
            "_model_module": "@jupyter-widgets/controls",
            "layout": "IPY_MODEL_0635c03b61d34c029604e065ec793e3d"
          }
        },
        "eb15b29805dc482684b9c53c112a01a4": {
          "model_module": "@jupyter-widgets/controls",
          "model_name": "HTMLModel",
          "state": {
            "_view_name": "HTMLView",
            "style": "IPY_MODEL_2c9d6cfd2d10440ca75cf1cfad553bf8",
            "_dom_classes": [],
            "description": "",
            "_model_name": "HTMLModel",
            "placeholder": "​",
            "_view_module": "@jupyter-widgets/controls",
            "_model_module_version": "1.5.0",
            "value": " 965/21685 [08:53&lt;3:05:15,  1.86it/s]",
            "_view_count": null,
            "_view_module_version": "1.5.0",
            "description_tooltip": null,
            "_model_module": "@jupyter-widgets/controls",
            "layout": "IPY_MODEL_b839b518c525430482e3b626404a3a1b"
          }
        },
        "69db577813ed4e2c96046c055a47306f": {
          "model_module": "@jupyter-widgets/controls",
          "model_name": "ProgressStyleModel",
          "state": {
            "_view_name": "StyleView",
            "_model_name": "ProgressStyleModel",
            "description_width": "initial",
            "_view_module": "@jupyter-widgets/base",
            "_model_module_version": "1.5.0",
            "_view_count": null,
            "_view_module_version": "1.2.0",
            "bar_color": null,
            "_model_module": "@jupyter-widgets/controls"
          }
        },
        "0635c03b61d34c029604e065ec793e3d": {
          "model_module": "@jupyter-widgets/base",
          "model_name": "LayoutModel",
          "state": {
            "_view_name": "LayoutView",
            "grid_template_rows": null,
            "right": null,
            "justify_content": null,
            "_view_module": "@jupyter-widgets/base",
            "overflow": null,
            "_model_module_version": "1.2.0",
            "_view_count": null,
            "flex_flow": null,
            "width": null,
            "min_width": null,
            "border": null,
            "align_items": null,
            "bottom": null,
            "_model_module": "@jupyter-widgets/base",
            "top": null,
            "grid_column": null,
            "overflow_y": null,
            "overflow_x": null,
            "grid_auto_flow": null,
            "grid_area": null,
            "grid_template_columns": null,
            "flex": null,
            "_model_name": "LayoutModel",
            "justify_items": null,
            "grid_row": null,
            "max_height": null,
            "align_content": null,
            "visibility": null,
            "align_self": null,
            "height": null,
            "min_height": null,
            "padding": null,
            "grid_auto_rows": null,
            "grid_gap": null,
            "max_width": null,
            "order": null,
            "_view_module_version": "1.2.0",
            "grid_template_areas": null,
            "object_position": null,
            "object_fit": null,
            "grid_auto_columns": null,
            "margin": null,
            "display": null,
            "left": null
          }
        },
        "2c9d6cfd2d10440ca75cf1cfad553bf8": {
          "model_module": "@jupyter-widgets/controls",
          "model_name": "DescriptionStyleModel",
          "state": {
            "_view_name": "StyleView",
            "_model_name": "DescriptionStyleModel",
            "description_width": "",
            "_view_module": "@jupyter-widgets/base",
            "_model_module_version": "1.5.0",
            "_view_count": null,
            "_view_module_version": "1.2.0",
            "_model_module": "@jupyter-widgets/controls"
          }
        },
        "b839b518c525430482e3b626404a3a1b": {
          "model_module": "@jupyter-widgets/base",
          "model_name": "LayoutModel",
          "state": {
            "_view_name": "LayoutView",
            "grid_template_rows": null,
            "right": null,
            "justify_content": null,
            "_view_module": "@jupyter-widgets/base",
            "overflow": null,
            "_model_module_version": "1.2.0",
            "_view_count": null,
            "flex_flow": null,
            "width": null,
            "min_width": null,
            "border": null,
            "align_items": null,
            "bottom": null,
            "_model_module": "@jupyter-widgets/base",
            "top": null,
            "grid_column": null,
            "overflow_y": null,
            "overflow_x": null,
            "grid_auto_flow": null,
            "grid_area": null,
            "grid_template_columns": null,
            "flex": null,
            "_model_name": "LayoutModel",
            "justify_items": null,
            "grid_row": null,
            "max_height": null,
            "align_content": null,
            "visibility": null,
            "align_self": null,
            "height": null,
            "min_height": null,
            "padding": null,
            "grid_auto_rows": null,
            "grid_gap": null,
            "max_width": null,
            "order": null,
            "_view_module_version": "1.2.0",
            "grid_template_areas": null,
            "object_position": null,
            "object_fit": null,
            "grid_auto_columns": null,
            "margin": null,
            "display": null,
            "left": null
          }
        },
        "f8c55c5030e2433596bb1f88ebf43748": {
          "model_module": "@jupyter-widgets/controls",
          "model_name": "HBoxModel",
          "state": {
            "_view_name": "HBoxView",
            "_dom_classes": [],
            "_model_name": "HBoxModel",
            "_view_module": "@jupyter-widgets/controls",
            "_model_module_version": "1.5.0",
            "_view_count": null,
            "_view_module_version": "1.5.0",
            "box_style": "",
            "layout": "IPY_MODEL_f509210f53cb4660a04f3ef1beb5cb68",
            "_model_module": "@jupyter-widgets/controls",
            "children": [
              "IPY_MODEL_f5a59ad865864b34a463fcea576dc392",
              "IPY_MODEL_9feec1c35b7441c9a39c67221b19bc71"
            ]
          }
        },
        "f509210f53cb4660a04f3ef1beb5cb68": {
          "model_module": "@jupyter-widgets/base",
          "model_name": "LayoutModel",
          "state": {
            "_view_name": "LayoutView",
            "grid_template_rows": null,
            "right": null,
            "justify_content": null,
            "_view_module": "@jupyter-widgets/base",
            "overflow": null,
            "_model_module_version": "1.2.0",
            "_view_count": null,
            "flex_flow": null,
            "width": null,
            "min_width": null,
            "border": null,
            "align_items": null,
            "bottom": null,
            "_model_module": "@jupyter-widgets/base",
            "top": null,
            "grid_column": null,
            "overflow_y": null,
            "overflow_x": null,
            "grid_auto_flow": null,
            "grid_area": null,
            "grid_template_columns": null,
            "flex": null,
            "_model_name": "LayoutModel",
            "justify_items": null,
            "grid_row": null,
            "max_height": null,
            "align_content": null,
            "visibility": null,
            "align_self": null,
            "height": null,
            "min_height": null,
            "padding": null,
            "grid_auto_rows": null,
            "grid_gap": null,
            "max_width": null,
            "order": null,
            "_view_module_version": "1.2.0",
            "grid_template_areas": null,
            "object_position": null,
            "object_fit": null,
            "grid_auto_columns": null,
            "margin": null,
            "display": null,
            "left": null
          }
        },
        "f5a59ad865864b34a463fcea576dc392": {
          "model_module": "@jupyter-widgets/controls",
          "model_name": "FloatProgressModel",
          "state": {
            "_view_name": "ProgressView",
            "style": "IPY_MODEL_1af6f3092f304f03844ca957735e5ac4",
            "_dom_classes": [],
            "description": "100%",
            "_model_name": "FloatProgressModel",
            "bar_style": "success",
            "max": 4037,
            "_view_module": "@jupyter-widgets/controls",
            "_model_module_version": "1.5.0",
            "value": 4037,
            "_view_count": null,
            "_view_module_version": "1.5.0",
            "orientation": "horizontal",
            "min": 0,
            "description_tooltip": null,
            "_model_module": "@jupyter-widgets/controls",
            "layout": "IPY_MODEL_a4883233f5754ffa84b83069820f9521"
          }
        },
        "9feec1c35b7441c9a39c67221b19bc71": {
          "model_module": "@jupyter-widgets/controls",
          "model_name": "HTMLModel",
          "state": {
            "_view_name": "HTMLView",
            "style": "IPY_MODEL_4b8f19af49c544d0ba45cc3bc09c7b5b",
            "_dom_classes": [],
            "description": "",
            "_model_name": "HTMLModel",
            "placeholder": "​",
            "_view_module": "@jupyter-widgets/controls",
            "_model_module_version": "1.5.0",
            "value": " 4037/4037 [15:06&lt;00:00,  4.46it/s]",
            "_view_count": null,
            "_view_module_version": "1.5.0",
            "description_tooltip": null,
            "_model_module": "@jupyter-widgets/controls",
            "layout": "IPY_MODEL_2d41e40732d740d98d2b163d922aba6b"
          }
        },
        "1af6f3092f304f03844ca957735e5ac4": {
          "model_module": "@jupyter-widgets/controls",
          "model_name": "ProgressStyleModel",
          "state": {
            "_view_name": "StyleView",
            "_model_name": "ProgressStyleModel",
            "description_width": "initial",
            "_view_module": "@jupyter-widgets/base",
            "_model_module_version": "1.5.0",
            "_view_count": null,
            "_view_module_version": "1.2.0",
            "bar_color": null,
            "_model_module": "@jupyter-widgets/controls"
          }
        },
        "a4883233f5754ffa84b83069820f9521": {
          "model_module": "@jupyter-widgets/base",
          "model_name": "LayoutModel",
          "state": {
            "_view_name": "LayoutView",
            "grid_template_rows": null,
            "right": null,
            "justify_content": null,
            "_view_module": "@jupyter-widgets/base",
            "overflow": null,
            "_model_module_version": "1.2.0",
            "_view_count": null,
            "flex_flow": null,
            "width": null,
            "min_width": null,
            "border": null,
            "align_items": null,
            "bottom": null,
            "_model_module": "@jupyter-widgets/base",
            "top": null,
            "grid_column": null,
            "overflow_y": null,
            "overflow_x": null,
            "grid_auto_flow": null,
            "grid_area": null,
            "grid_template_columns": null,
            "flex": null,
            "_model_name": "LayoutModel",
            "justify_items": null,
            "grid_row": null,
            "max_height": null,
            "align_content": null,
            "visibility": null,
            "align_self": null,
            "height": null,
            "min_height": null,
            "padding": null,
            "grid_auto_rows": null,
            "grid_gap": null,
            "max_width": null,
            "order": null,
            "_view_module_version": "1.2.0",
            "grid_template_areas": null,
            "object_position": null,
            "object_fit": null,
            "grid_auto_columns": null,
            "margin": null,
            "display": null,
            "left": null
          }
        },
        "4b8f19af49c544d0ba45cc3bc09c7b5b": {
          "model_module": "@jupyter-widgets/controls",
          "model_name": "DescriptionStyleModel",
          "state": {
            "_view_name": "StyleView",
            "_model_name": "DescriptionStyleModel",
            "description_width": "",
            "_view_module": "@jupyter-widgets/base",
            "_model_module_version": "1.5.0",
            "_view_count": null,
            "_view_module_version": "1.2.0",
            "_model_module": "@jupyter-widgets/controls"
          }
        },
        "2d41e40732d740d98d2b163d922aba6b": {
          "model_module": "@jupyter-widgets/base",
          "model_name": "LayoutModel",
          "state": {
            "_view_name": "LayoutView",
            "grid_template_rows": null,
            "right": null,
            "justify_content": null,
            "_view_module": "@jupyter-widgets/base",
            "overflow": null,
            "_model_module_version": "1.2.0",
            "_view_count": null,
            "flex_flow": null,
            "width": null,
            "min_width": null,
            "border": null,
            "align_items": null,
            "bottom": null,
            "_model_module": "@jupyter-widgets/base",
            "top": null,
            "grid_column": null,
            "overflow_y": null,
            "overflow_x": null,
            "grid_auto_flow": null,
            "grid_area": null,
            "grid_template_columns": null,
            "flex": null,
            "_model_name": "LayoutModel",
            "justify_items": null,
            "grid_row": null,
            "max_height": null,
            "align_content": null,
            "visibility": null,
            "align_self": null,
            "height": null,
            "min_height": null,
            "padding": null,
            "grid_auto_rows": null,
            "grid_gap": null,
            "max_width": null,
            "order": null,
            "_view_module_version": "1.2.0",
            "grid_template_areas": null,
            "object_position": null,
            "object_fit": null,
            "grid_auto_columns": null,
            "margin": null,
            "display": null,
            "left": null
          }
        }
      }
    }
  },
  "cells": [
    {
      "cell_type": "markdown",
      "metadata": {
        "id": "view-in-github",
        "colab_type": "text"
      },
      "source": [
        "<a href=\"https://colab.research.google.com/github/mmsamiei/final-ms-thesis-code/blob/master/phase2/models/baqarah/baqarah.ipynb\" target=\"_parent\"><img src=\"https://colab.research.google.com/assets/colab-badge.svg\" alt=\"Open In Colab\"/></a>"
      ]
    },
    {
      "cell_type": "code",
      "metadata": {
        "id": "Ylv_YpFLfOAF",
        "colab_type": "code",
        "colab": {
          "base_uri": "https://localhost:8080/",
          "height": 35
        },
        "outputId": "23164141-a954-45c5-e672-499e5447c23f"
      },
      "source": [
        "import IPython\n",
        "from google.colab import output\n",
        "\n",
        "display(IPython.display.Javascript('''\n",
        " function ClickConnect(){\n",
        "   btn = document.querySelector(\"colab-connect-button\")\n",
        "   if (btn != null){\n",
        "     console.log(\"Click colab-connect-button\"); \n",
        "     btn.click() \n",
        "     }\n",
        "   \n",
        "   btn = document.getElementById('ok')\n",
        "   if (btn != null){\n",
        "     console.log(\"Click reconnect\"); \n",
        "     btn.click() \n",
        "     }\n",
        "  }\n",
        "  \n",
        "setInterval(ClickConnect,60000)\n",
        "'''))\n",
        "\n",
        "print(\"Done.\")\n"
      ],
      "execution_count": 1,
      "outputs": [
        {
          "output_type": "display_data",
          "data": {
            "application/javascript": [
              "\n",
              " function ClickConnect(){\n",
              "   btn = document.querySelector(\"colab-connect-button\")\n",
              "   if (btn != null){\n",
              "     console.log(\"Click colab-connect-button\"); \n",
              "     btn.click() \n",
              "     }\n",
              "   \n",
              "   btn = document.getElementById('ok')\n",
              "   if (btn != null){\n",
              "     console.log(\"Click reconnect\"); \n",
              "     btn.click() \n",
              "     }\n",
              "  }\n",
              "  \n",
              "setInterval(ClickConnect,60000)\n"
            ],
            "text/plain": [
              "<IPython.core.display.Javascript object>"
            ]
          },
          "metadata": {
            "tags": []
          }
        },
        {
          "output_type": "stream",
          "text": [
            "Done.\n"
          ],
          "name": "stdout"
        }
      ]
    },
    {
      "cell_type": "code",
      "metadata": {
        "id": "fjBjuRlb0gCJ",
        "colab_type": "code",
        "colab": {
          "base_uri": "https://localhost:8080/",
          "height": 371
        },
        "outputId": "fc40867f-9e4a-4ccc-9b17-1c96e9eceb04"
      },
      "source": [
        "!nvidia-smi"
      ],
      "execution_count": 2,
      "outputs": [
        {
          "output_type": "stream",
          "text": [
            "Tue Aug  4 12:35:45 2020       \n",
            "+-----------------------------------------------------------------------------+\n",
            "| NVIDIA-SMI 450.57       Driver Version: 418.67       CUDA Version: 10.1     |\n",
            "|-------------------------------+----------------------+----------------------+\n",
            "| GPU  Name        Persistence-M| Bus-Id        Disp.A | Volatile Uncorr. ECC |\n",
            "| Fan  Temp  Perf  Pwr:Usage/Cap|         Memory-Usage | GPU-Util  Compute M. |\n",
            "|                               |                      |               MIG M. |\n",
            "|===============================+======================+======================|\n",
            "|   0  Tesla T4            Off  | 00000000:00:04.0 Off |                    0 |\n",
            "| N/A   67C    P8    11W /  70W |      0MiB / 15079MiB |      0%      Default |\n",
            "|                               |                      |                 ERR! |\n",
            "+-------------------------------+----------------------+----------------------+\n",
            "                                                                               \n",
            "+-----------------------------------------------------------------------------+\n",
            "| Processes:                                                                  |\n",
            "|  GPU   GI   CI        PID   Type   Process name                  GPU Memory |\n",
            "|        ID   ID                                                   Usage      |\n",
            "|=============================================================================|\n",
            "|  No running processes found                                                 |\n",
            "+-----------------------------------------------------------------------------+\n"
          ],
          "name": "stdout"
        }
      ]
    },
    {
      "cell_type": "code",
      "metadata": {
        "id": "VQX5MuYc8yeY",
        "colab_type": "code",
        "colab": {
          "base_uri": "https://localhost:8080/",
          "height": 126
        },
        "outputId": "06755aad-9187-4677-a8f1-6e6acf443c5b"
      },
      "source": [
        "from google.colab import drive\n",
        "drive.mount('/content/drive')"
      ],
      "execution_count": 3,
      "outputs": [
        {
          "output_type": "stream",
          "text": [
            "Go to this URL in a browser: https://accounts.google.com/o/oauth2/auth?client_id=947318989803-6bn6qk8qdgf4n4g3pfee6491hc0brc4i.apps.googleusercontent.com&redirect_uri=urn%3aietf%3awg%3aoauth%3a2.0%3aoob&response_type=code&scope=email%20https%3a%2f%2fwww.googleapis.com%2fauth%2fdocs.test%20https%3a%2f%2fwww.googleapis.com%2fauth%2fdrive%20https%3a%2f%2fwww.googleapis.com%2fauth%2fdrive.photos.readonly%20https%3a%2f%2fwww.googleapis.com%2fauth%2fpeopleapi.readonly\n",
            "\n",
            "Enter your authorization code:\n",
            "··········\n",
            "Mounted at /content/drive\n"
          ],
          "name": "stdout"
        }
      ]
    },
    {
      "cell_type": "code",
      "metadata": {
        "id": "Xr5JzGrFyY3e",
        "colab_type": "code",
        "colab": {}
      },
      "source": [
        "train_file = '/content/drive/My Drive/Thesis/phase-2/history_sentence_pairs_train.csv'\n",
        "valid_file =  '/content/drive/My Drive/Thesis/phase-2/history_sentence_pairs_valid.csv' "
      ],
      "execution_count": 4,
      "outputs": []
    },
    {
      "cell_type": "code",
      "metadata": {
        "id": "BNDgclEfyq8p",
        "colab_type": "code",
        "colab": {
          "base_uri": "https://localhost:8080/",
          "height": 106
        },
        "outputId": "cd0cb3f9-0fb9-4b64-a37c-8492a5eea0af"
      },
      "source": [
        "!pip -q install transformers"
      ],
      "execution_count": 5,
      "outputs": [
        {
          "output_type": "stream",
          "text": [
            "\u001b[K     |████████████████████████████████| 778kB 4.6MB/s \n",
            "\u001b[K     |████████████████████████████████| 890kB 22.9MB/s \n",
            "\u001b[K     |████████████████████████████████| 3.0MB 32.6MB/s \n",
            "\u001b[K     |████████████████████████████████| 1.1MB 40.8MB/s \n",
            "\u001b[?25h  Building wheel for sacremoses (setup.py) ... \u001b[?25l\u001b[?25hdone\n"
          ],
          "name": "stdout"
        }
      ]
    },
    {
      "cell_type": "code",
      "metadata": {
        "id": "3ZWxjO5Oy4bL",
        "colab_type": "code",
        "colab": {}
      },
      "source": [
        "from torch.utils.data import Dataset, DataLoader\n",
        "import os\n",
        "import torch\n",
        "import json\n",
        "from torch.utils.data.sampler import SubsetRandomSampler\n",
        "import numpy as np\n",
        "import pandas as pd\n",
        "from transformers import AutoTokenizer\n",
        "\n",
        "random_state = 313\n",
        "\n",
        "tokenizer = AutoTokenizer.from_pretrained('google/bert_uncased_L-2_H-256_A-4')"
      ],
      "execution_count": 59,
      "outputs": []
    },
    {
      "cell_type": "code",
      "metadata": {
        "id": "bVIXJrRCy7Tf",
        "colab_type": "code",
        "colab": {}
      },
      "source": [
        "import random\n",
        "import pandas as pd\n",
        "import logging\n",
        "\n",
        "class MyDataset(Dataset):\n",
        "    \"\"\"My dataset.\"\"\"\n",
        "\n",
        "    def __init__(self, csv_file, frac=1, split_rate=1, shift=-1, max_len=512):\n",
        "        \"\"\"\n",
        "        Args:\n",
        "            csv_file (string): Path to the csv file with annotations.\n",
        "        \"\"\"\n",
        "        self.dialogues = pd.read_csv(csv_file)\n",
        "        self.dialogues.dropna(inplace=True)\n",
        "        \n",
        "        self.dialogues = self.dialogues.sample(frac=1, random_state=random_state).reset_index(drop=True)\n",
        "\n",
        "        self.dialogues = self.dialogues[self.dialogues.index % split_rate == 0]\n",
        "        \n",
        "        # s = self.dialogues['history'].apply(len).sort_values().index\n",
        "        # self.dialogues = self.dialogues.reindex(s)\n",
        "        # s = self.dialogues['true_sentence'].apply(len).sort_values().index\n",
        "        # self.dialogues = self.dialogues.reindex(s)\n",
        "\n",
        "        self.dialogues = self.dialogues.reindex(index=np.roll(self.dialogues.index,shift))\n",
        "\n",
        "\n",
        "        self.dialogues.dropna(inplace=True)\n",
        "\n",
        "        self.max_len = max_len\n",
        "\n",
        "\n",
        "    def __len__(self):\n",
        "        return len(self.dialogues)\n",
        "\n",
        "    @staticmethod\n",
        "    def truncuate_join_pair_sentence(sentence1, sentence2, max_len=510):\n",
        "\n",
        "        \"\"\"\n",
        "        truncuate sentence one from head and sentence two from tail\n",
        "        Args:\n",
        "            sentence1 (string): first sentence\n",
        "            sentence2 (string): seconde sentence\n",
        "        \"\"\"\n",
        "        temp1 = tokenizer.encode(sentence1,add_special_tokens=False)\n",
        "        temp2 = tokenizer.encode(sentence2,add_special_tokens=False)\n",
        "        ### two above line may cause warning but no problem because we've handle them below\n",
        "        logging.getLogger(\"transformers.tokenization_utils\").setLevel(logging.ERROR)\n",
        "        seq_1 = temp1\n",
        "        seq_2 = temp2\n",
        "        num_tokens_to_remove = len(temp1) + len(temp2) + 3 - max_len\n",
        "        if num_tokens_to_remove > 0 :\n",
        "            seq_1, seq_2, _ = tokenizer.truncate_sequences(temp1[::-1],temp2, num_tokens_to_remove=num_tokens_to_remove)\n",
        "            seq_1.reverse()\n",
        "        result_list = [tokenizer.cls_token_id]+seq_1+[tokenizer.sep_token_id]+seq_2+[tokenizer.sep_token_id]\n",
        "        token_type_ids = [0] * (len(seq_1) + 2) + [1] * (len(seq_2) + 1)\n",
        "        return result_list, token_type_ids\n",
        "\n",
        "\n",
        "    def __getitem__(self, idx):\n",
        "      \n",
        "        \n",
        "        history = self.dialogues.iloc[idx].history\n",
        "        true_sentence = self.dialogues.iloc[idx].true_sentence\n",
        "        false_sentence = self.dialogues.iloc[idx].false_sentence\n",
        "\n",
        "\n",
        "        true_pair, true_pair_segments = MyDataset.truncuate_join_pair_sentence(history, true_sentence, self.max_len)\n",
        "        false_pair, false_pair_segments  = MyDataset.truncuate_join_pair_sentence(history, false_sentence, self.max_len)\n",
        "        \n",
        "        \n",
        "\n",
        "        true_pair = torch.LongTensor(true_pair)\n",
        "        false_pair = torch.LongTensor(false_pair)\n",
        "\n",
        "        true_pair_segments = torch.LongTensor(true_pair_segments)\n",
        "        false_pair_segments = torch.LongTensor(false_pair_segments)\n",
        "\n",
        "\n",
        "        sample = {'true_pair': true_pair, 'false_pair': false_pair,\n",
        "                  'true_pair_segments': true_pair_segments,\n",
        "                  'false_pair_segments': false_pair_segments}\n",
        "\n",
        "        return sample"
      ],
      "execution_count": 60,
      "outputs": []
    },
    {
      "cell_type": "code",
      "metadata": {
        "id": "c_W3K-RczYcu",
        "colab_type": "code",
        "colab": {
          "base_uri": "https://localhost:8080/",
          "height": 52
        },
        "outputId": "cae9d914-e749-4ee9-84d7-a472ae284672"
      },
      "source": [
        "#shift = -batch_size * step\n",
        "train_dataset = MyDataset(train_file, shift=-4, max_len=512)\n",
        "valid_dataset = MyDataset(valid_file, max_len=128)\n",
        "print(len(train_dataset))\n",
        "print(len(valid_dataset))"
      ],
      "execution_count": 61,
      "outputs": [
        {
          "output_type": "stream",
          "text": [
            "2775678\n",
            "147428\n"
          ],
          "name": "stdout"
        }
      ]
    },
    {
      "cell_type": "code",
      "metadata": {
        "id": "_TZi8YJr2VIO",
        "colab_type": "code",
        "colab": {
          "base_uri": "https://localhost:8080/",
          "height": 370,
          "referenced_widgets": [
            "4779f9ed58554b53a824b5a876385edf",
            "55aad79314484d80b8dc75bc6c52ccc1",
            "c3210ff8fa434efeb265707f9348c7d6",
            "ccb262e321674acd9a83ef1b27d40416",
            "357fc2c0f664444ea8a08d95c076a7e0",
            "19c5ce4a5d2144aa86dea6ca4be03b5a",
            "7a49bc3a3355456da904c666b4ce0ef6",
            "5620412b8d4e4488bd6319658e0e7a30"
          ]
        },
        "outputId": "801795b6-7ce2-4195-bb82-ad5859120e09"
      },
      "source": [
        "from tqdm.auto import tqdm\n",
        "from torch.utils.data import SequentialSampler\n",
        "\n",
        "def my_collate_fn(batch):\n",
        "\n",
        "  len_batch = len(batch)\n",
        "\n",
        "  \n",
        "  max_len_true_pair = max([len(data['true_pair']) for data in batch])\n",
        "  max_len_false_pair = max([len(data['false_pair']) for data in batch])\n",
        "  \n",
        "  padding_ind = 0 ## for bert is 0\n",
        "  result_true_pair = torch.zeros(len_batch, max_len_true_pair)\n",
        "  result_false_pair = torch.zeros(len_batch, max_len_false_pair)\n",
        "  \n",
        "  result_true_segment = torch.zeros(len_batch, max_len_true_pair)\n",
        "  result_false_segment = torch.zeros(len_batch, max_len_false_pair)\n",
        "\n",
        "  for i, data in enumerate(batch):\n",
        "    p1 = len(data['true_pair'])\n",
        "    result_true_pair[i, :p1] = data['true_pair']\n",
        "    p2 = len(data['false_pair'])\n",
        "    result_false_pair[i, :p2] = data['false_pair']\n",
        "\n",
        "    p3 = len(data['true_pair_segments'])\n",
        "    result_true_segment[i, :p3] = data['true_pair_segments']\n",
        "\n",
        "    p4 = len(data['false_pair_segments'])\n",
        "    result_false_segment[i, :p4] = data['false_pair_segments']\n",
        "\n",
        "\n",
        "  return result_true_pair.long(), result_false_pair.long(), result_true_segment.long(), result_false_segment.long()\n",
        "\n",
        "seqsampler = SequentialSampler(train_dataset)\n",
        "train_loader = torch.utils.data.DataLoader(train_dataset, batch_size=128,\n",
        "                                             collate_fn=my_collate_fn,\n",
        "                                           sampler =seqsampler ,num_workers=1)\n",
        "\n",
        "valid_sampler = torch.utils.data.SequentialSampler(valid_dataset)\n",
        "valid_loader = torch.utils.data.DataLoader(valid_dataset, batch_size=128, sampler=valid_sampler,\n",
        "                                             shuffle=False, collate_fn=my_collate_fn, num_workers=1)\n",
        "\n",
        "\n",
        "i = 0 \n",
        "for batch_idx, batch  in tqdm(enumerate(train_loader)):\n",
        "  true_batch, false_batch, a, p = batch\n",
        "  print(false_batch.shape)\n",
        "  i += 1 \n",
        "  if(i==4):\n",
        "    break\n",
        "\n",
        "print(len(train_loader))\n",
        "print(len(valid_loader))"
      ],
      "execution_count": 64,
      "outputs": [
        {
          "output_type": "stream",
          "text": [
            "\n"
          ],
          "name": "stdout"
        },
        {
          "output_type": "stream",
          "text": [
            "Exception ignored in: <bound method _MultiProcessingDataLoaderIter.__del__ of <torch.utils.data.dataloader._MultiProcessingDataLoaderIter object at 0x7f50b306e320>>\n",
            "Traceback (most recent call last):\n",
            "  File \"/usr/local/lib/python3.6/dist-packages/torch/utils/data/dataloader.py\", line 1101, in __del__\n",
            "    self._shutdown_workers()\n",
            "  File \"/usr/local/lib/python3.6/dist-packages/torch/utils/data/dataloader.py\", line 1075, in _shutdown_workers\n",
            "    w.join(timeout=_utils.MP_STATUS_CHECK_INTERVAL)\n",
            "  File \"/usr/lib/python3.6/multiprocessing/process.py\", line 122, in join\n",
            "    assert self._parent_pid == os.getpid(), 'can only join a child process'\n",
            "AssertionError: can only join a child process\n"
          ],
          "name": "stderr"
        },
        {
          "output_type": "stream",
          "text": [
            "\n"
          ],
          "name": "stdout"
        },
        {
          "output_type": "display_data",
          "data": {
            "application/vnd.jupyter.widget-view+json": {
              "model_id": "4779f9ed58554b53a824b5a876385edf",
              "version_minor": 0,
              "version_major": 2
            },
            "text/plain": [
              "HBox(children=(FloatProgress(value=1.0, bar_style='info', max=1.0), HTML(value='')))"
            ]
          },
          "metadata": {
            "tags": []
          }
        },
        {
          "output_type": "stream",
          "text": [
            "torch.Size([128, 245])\n",
            "torch.Size([128, 276])\n",
            "torch.Size([128, 282])\n",
            "torch.Size([128, 318])\n",
            "21685\n",
            "1152\n"
          ],
          "name": "stdout"
        }
      ]
    },
    {
      "cell_type": "code",
      "metadata": {
        "id": "FHAuI0Is7oB3",
        "colab_type": "code",
        "colab": {
          "base_uri": "https://localhost:8080/",
          "height": 84,
          "referenced_widgets": [
            "78a92278860946a080996bc1decaf010",
            "fd2b92ecd1a34263a03c23a91680d2ce",
            "e2c448967cdd45f799c6919c4057f1e9",
            "fc35a2b2e42844d785090bde5d557a2f",
            "c660c46499d840dc9ee167608fde1fe6",
            "38b01dee2157497ab8d2203657fce402",
            "a4e48b13c6dd4a0fb6740d875a505191",
            "5e3a620f6f5047e6820c7b9c7a4c34b9"
          ]
        },
        "outputId": "59421a0f-a4a4-492b-bdc6-8ea5945880f6"
      },
      "source": [
        "import os\n",
        "\n",
        "import torch\n",
        "import torch.nn as nn\n",
        "from torch.nn import functional as F\n",
        "from torch.utils.data import DataLoader\n",
        "from torchvision import transforms\n",
        "from transformers import AutoModel\n",
        "\n",
        "class Model(nn.Module):\n",
        "  def __init__(self):\n",
        "    super(Model, self).__init__()\n",
        "\n",
        "    self.bert = AutoModel.from_pretrained(\"google/bert_uncased_L-2_H-256_A-4\")\n",
        "    self.fc = nn.Linear(256,1)\n",
        "    self.activation = nn.Tanh()\n",
        "    nn.init.xavier_normal_(self.fc.weight)\n",
        "  \n",
        "  def forward(self, x, segments_tensors):\n",
        "        temp = x\n",
        "        temp = self.bert(temp, token_type_ids=segments_tensors)[0]\n",
        "        ## temp = [batch, len, hid_size]\n",
        "        temp = temp[:,0,:]\n",
        "        temp = self.fc(temp)\n",
        "        temp = self.activation(temp)\n",
        "        temp = (temp - (-1))/2 \n",
        "        return temp\n",
        "\n",
        "dev = torch.device('cuda')\n",
        "model = Model().to(dev)\n",
        "\n",
        "\n",
        "# x = torch.LongTensor(16, 40).random_(1,1000).to(dev)\n",
        "# y = torch.LongTensor(16, 40).random_(0,2).to(dev)\n",
        "# print(model(x, y).shape)\n",
        "\n",
        "\n",
        "def count_parameters(model): return sum(p.numel() for p in model.parameters() if p.requires_grad)\n",
        "print(count_parameters(model))"
      ],
      "execution_count": 65,
      "outputs": [
        {
          "output_type": "display_data",
          "data": {
            "application/vnd.jupyter.widget-view+json": {
              "model_id": "78a92278860946a080996bc1decaf010",
              "version_minor": 0,
              "version_major": 2
            },
            "text/plain": [
              "HBox(children=(FloatProgress(value=0.0, description='Downloading', max=38763567.0, style=ProgressStyle(descrip…"
            ]
          },
          "metadata": {
            "tags": []
          }
        },
        {
          "output_type": "stream",
          "text": [
            "\n",
            "9591297\n"
          ],
          "name": "stdout"
        }
      ]
    },
    {
      "cell_type": "code",
      "metadata": {
        "id": "LHl2aKQ0_NrA",
        "colab_type": "code",
        "colab": {}
      },
      "source": [
        "from transformers import get_cosine_schedule_with_warmup, get_constant_schedule\n",
        "optimizer = torch.optim.Adam(model.parameters(), lr=2e-5)\n",
        "scheduler = get_constant_schedule(optimizer)"
      ],
      "execution_count": 66,
      "outputs": []
    },
    {
      "cell_type": "code",
      "metadata": {
        "id": "bayB8T4NgV_O",
        "colab_type": "code",
        "colab": {}
      },
      "source": [
        "import torch.nn.functional as F\n",
        "\n",
        "def mahdi_loss(true_sml, false_sml):\n",
        "  eps = 1e-8\n",
        "  loss = torch.mean( -torch.log(true_sml+eps)-torch.log(1-false_sml+eps))\n",
        "  return loss"
      ],
      "execution_count": 67,
      "outputs": []
    },
    {
      "cell_type": "code",
      "metadata": {
        "id": "VEfypJwlaF07",
        "colab_type": "code",
        "colab": {}
      },
      "source": [
        "from tqdm.auto import tqdm\n",
        "\n",
        "def train_step(batch_idx, batch):\n",
        "  true_pairs, false_pairs, true_segments, false_segments = batch\n",
        "  true_pairs = true_pairs.to(dev)\n",
        "  false_pairs = false_pairs.to(dev)\n",
        "  true_segments = true_segments.to(dev)\n",
        "  false_segments = false_segments.to(dev)\n",
        "  optimizer.zero_grad()\n",
        "  true_sml = model(true_pairs, true_segments)\n",
        "  false_sml = model(false_pairs, false_segments)\n",
        "  loss = mahdi_loss(true_sml, false_sml)\n",
        "  loss.backward()\n",
        "  torch.nn.utils.clip_grad_norm_(model.parameters(), 1)\n",
        "  optimizer.step()\n",
        "  scheduler.step()\n",
        "  del true_pairs\n",
        "  del false_pairs\n",
        "  del true_segments\n",
        "  del false_segments\n",
        "  return loss.item()\n",
        "\n",
        "def valid_step(batch_idx, batch):\n",
        "  true_pairs, false_pairs, true_segments, false_segments = batch\n",
        "  true_pairs = true_pairs.to(dev)\n",
        "  false_pairs = false_pairs.to(dev)\n",
        "  true_segments = true_segments.to(dev)\n",
        "  false_segments = false_segments.to(dev)\n",
        "  true_sml = model(true_pairs, true_segments)\n",
        "  false_sml = model(false_pairs, false_segments)\n",
        "  z = true_sml - false_sml\n",
        "  num_err = z[z<0].size()[0]\n",
        "  del true_pairs\n",
        "  del false_pairs\n",
        "  del true_segments\n",
        "  del false_segments \n",
        "  return num_err\n",
        "\n",
        "def valid_loop(valid_loader):\n",
        "  total_error = 0\n",
        "  model.eval()\n",
        "  for batch_idx, batch in tqdm(enumerate(valid_loader),  total=len(valid_loader)):\n",
        "    total_error += valid_step(batch_idx, batch)\n",
        "  return total_error / len(valid_dataset)"
      ],
      "execution_count": 68,
      "outputs": []
    },
    {
      "cell_type": "code",
      "metadata": {
        "id": "AeYHXadEiL61",
        "colab_type": "code",
        "colab": {}
      },
      "source": [
        "new_learning = True\n",
        "if new_learning:\n",
        "  model_dir = \"/content/drive/My Drive/Final-Thesis/Phase2/Baqarah/\"\n",
        "  step = 0\n",
        "  log_list = []"
      ],
      "execution_count": 69,
      "outputs": []
    },
    {
      "cell_type": "code",
      "metadata": {
        "id": "Dswr4WqKgLIa",
        "colab_type": "code",
        "colab": {
          "base_uri": "https://localhost:8080/",
          "height": 35
        },
        "outputId": "8be965d1-55b9-48a6-95a7-563c0b44f3e3"
      },
      "source": [
        "## if continue learning:\n",
        "#!wget -q https://github.com/mmsamiei/MS-Thesis-Phase2/raw/master/Models/hashemi_16000steps.model\n",
        "model_dir = \"/content/drive/My Drive/Final-Thesis/Phase2/Baqarah/\"\n",
        "checkpoint = torch.load(model_dir+'baqarah_40000steps.model')\n",
        "step = checkpoint['log_list'][-1]['step']\n",
        "model.load_state_dict(checkpoint['model_state_dict'])\n",
        "optimizer.load_state_dict(checkpoint['optimizer_state_dict'])\n",
        "optimizer._step = step\n",
        "log_list = checkpoint['log_list']\n",
        "new_learning = False\n",
        "print(step)"
      ],
      "execution_count": null,
      "outputs": [
        {
          "output_type": "stream",
          "text": [
            "40000\n"
          ],
          "name": "stdout"
        }
      ]
    },
    {
      "cell_type": "code",
      "metadata": {
        "id": "vftkcwACOwIY",
        "colab_type": "code",
        "colab": {
          "base_uri": "https://localhost:8080/",
          "height": 67,
          "referenced_widgets": [
            "fd21f4f9a0404cdb98fa8a54a60169b2",
            "1622d2479d79484d8d96f8c3f077371a",
            "80ea75c9282a4feebf3e636f9ce35475",
            "eb15b29805dc482684b9c53c112a01a4",
            "69db577813ed4e2c96046c055a47306f",
            "0635c03b61d34c029604e065ec793e3d",
            "2c9d6cfd2d10440ca75cf1cfad553bf8",
            "b839b518c525430482e3b626404a3a1b"
          ]
        },
        "outputId": "da40818c-dd70-42e0-c29b-c3bde08f57af"
      },
      "source": [
        "from tqdm.auto import tqdm\n",
        "\n",
        "MAX_STEP = 25000\n",
        "STEP_SAVE = 1000\n",
        "STEP_CHECK = 5000\n",
        "step_num = step + 1\n",
        "log_list = log_list ### Check if new learning or not\n",
        "print(step_num)\n",
        "while step_num <= MAX_STEP:\n",
        "  model.train()\n",
        "  for batch_idx, batch in tqdm(enumerate(iter(train_loader)), total=len(train_loader)):\n",
        "    step_loss = train_step(batch_idx, batch)\n",
        "    log = {'step':step_num, 'train_loss':step_loss}\n",
        "\n",
        "    if(step_num % STEP_CHECK == 0):\n",
        "      valid_error = valid_loop(valid_loader)\n",
        "      print(\"Error rate: {} at step {}\".format(valid_error, step_num))  \n",
        "      log['valid_error'] = valid_error\n",
        "      log_list.append(log)\n",
        "      model.train()\n",
        "      torch.save({\n",
        "            'model_state_dict': model.state_dict(),\n",
        "            'log_list': log_list,\n",
        "            'optimizer_state_dict': optimizer.state_dict() \n",
        "            }, model_dir+'baqarah_{}steps.model'.format(step_num))\n",
        "      step_num += 1\n",
        "      continue\n",
        "    \n",
        "    log_list.append(log)\n",
        "    if(step_num % STEP_SAVE == 0):\n",
        "      torch.save({\n",
        "            'model_state_dict': model.state_dict(),\n",
        "            'log_list': log_list,\n",
        "            'optimizer_state_dict': optimizer.state_dict()\n",
        "            }, model_dir+'baqarah_{}steps.model'.format(step_num))\n",
        "    step_num += 1\n"
      ],
      "execution_count": null,
      "outputs": [
        {
          "output_type": "stream",
          "text": [
            "1\n"
          ],
          "name": "stdout"
        },
        {
          "output_type": "display_data",
          "data": {
            "application/vnd.jupyter.widget-view+json": {
              "model_id": "fd21f4f9a0404cdb98fa8a54a60169b2",
              "version_minor": 0,
              "version_major": 2
            },
            "text/plain": [
              "HBox(children=(FloatProgress(value=0.0, max=21685.0), HTML(value='')))"
            ]
          },
          "metadata": {
            "tags": []
          }
        }
      ]
    },
    {
      "cell_type": "code",
      "metadata": {
        "id": "BAAldHR-nsK9",
        "colab_type": "code",
        "colab": {}
      },
      "source": [
        "checkpoint = torch.load(model_dir+'baqarah_48000steps.model')\n",
        "step = checkpoint['log_list'][-1]['step']\n",
        "model.load_state_dict(checkpoint['model_state_dict'])\n",
        "model = model.eval()"
      ],
      "execution_count": null,
      "outputs": []
    },
    {
      "cell_type": "code",
      "metadata": {
        "id": "Dwx01GzHolB8",
        "colab_type": "code",
        "colab": {
          "base_uri": "https://localhost:8080/",
          "height": 1000
        },
        "outputId": "6b5173c0-b5c5-494f-b7f4-dda9dd57e635"
      },
      "source": [
        "checkpoint['log_list'][-100:]"
      ],
      "execution_count": null,
      "outputs": [
        {
          "output_type": "execute_result",
          "data": {
            "text/plain": [
              "[{'step': 47901, 'train_loss': 0.6180559396743774},\n",
              " {'step': 47902, 'train_loss': 0.6756874918937683},\n",
              " {'step': 47903, 'train_loss': 0.3831639289855957},\n",
              " {'step': 47904, 'train_loss': 0.521987795829773},\n",
              " {'step': 47905, 'train_loss': 0.43172207474708557},\n",
              " {'step': 47906, 'train_loss': 0.4906673729419708},\n",
              " {'step': 47907, 'train_loss': 0.5996006727218628},\n",
              " {'step': 47908, 'train_loss': 0.45354172587394714},\n",
              " {'step': 47909, 'train_loss': 0.5894767642021179},\n",
              " {'step': 47910, 'train_loss': 0.5462672710418701},\n",
              " {'step': 47911, 'train_loss': 0.5355315208435059},\n",
              " {'step': 47912, 'train_loss': 0.38774287700653076},\n",
              " {'step': 47913, 'train_loss': 0.5272914171218872},\n",
              " {'step': 47914, 'train_loss': 0.5838849544525146},\n",
              " {'step': 47915, 'train_loss': 0.6783334016799927},\n",
              " {'step': 47916, 'train_loss': 0.7320071458816528},\n",
              " {'step': 47917, 'train_loss': 0.4191508889198303},\n",
              " {'step': 47918, 'train_loss': 0.44454658031463623},\n",
              " {'step': 47919, 'train_loss': 0.6254640817642212},\n",
              " {'step': 47920, 'train_loss': 0.4632706642150879},\n",
              " {'step': 47921, 'train_loss': 0.6504154205322266},\n",
              " {'step': 47922, 'train_loss': 0.5633147358894348},\n",
              " {'step': 47923, 'train_loss': 0.5822423696517944},\n",
              " {'step': 47924, 'train_loss': 0.5590499043464661},\n",
              " {'step': 47925, 'train_loss': 0.4599236845970154},\n",
              " {'step': 47926, 'train_loss': 0.4737270474433899},\n",
              " {'step': 47927, 'train_loss': 0.5033564567565918},\n",
              " {'step': 47928, 'train_loss': 0.6414557099342346},\n",
              " {'step': 47929, 'train_loss': 0.3327251970767975},\n",
              " {'step': 47930, 'train_loss': 0.58743816614151},\n",
              " {'step': 47931, 'train_loss': 0.4981629252433777},\n",
              " {'step': 47932, 'train_loss': 0.45085465908050537},\n",
              " {'step': 47933, 'train_loss': 0.49880045652389526},\n",
              " {'step': 47934, 'train_loss': 0.6153753995895386},\n",
              " {'step': 47935, 'train_loss': 0.6606482267379761},\n",
              " {'step': 47936, 'train_loss': 0.4795471429824829},\n",
              " {'step': 47937, 'train_loss': 0.5092058181762695},\n",
              " {'step': 47938, 'train_loss': 0.3564418852329254},\n",
              " {'step': 47939, 'train_loss': 0.5023147463798523},\n",
              " {'step': 47940, 'train_loss': 0.4031461179256439},\n",
              " {'step': 47941, 'train_loss': 0.4484688639640808},\n",
              " {'step': 47942, 'train_loss': 0.6316046118736267},\n",
              " {'step': 47943, 'train_loss': 0.5758314728736877},\n",
              " {'step': 47944, 'train_loss': 0.5351728200912476},\n",
              " {'step': 47945, 'train_loss': 0.465667724609375},\n",
              " {'step': 47946, 'train_loss': 0.3840528726577759},\n",
              " {'step': 47947, 'train_loss': 0.6310259699821472},\n",
              " {'step': 47948, 'train_loss': 0.5122324824333191},\n",
              " {'step': 47949, 'train_loss': 0.478004515171051},\n",
              " {'step': 47950, 'train_loss': 0.5105071067810059},\n",
              " {'step': 47951, 'train_loss': 0.5908068418502808},\n",
              " {'step': 47952, 'train_loss': 0.49112918972969055},\n",
              " {'step': 47953, 'train_loss': 0.41556137800216675},\n",
              " {'step': 47954, 'train_loss': 0.5123030543327332},\n",
              " {'step': 47955, 'train_loss': 0.5185732841491699},\n",
              " {'step': 47956, 'train_loss': 0.6430535316467285},\n",
              " {'step': 47957, 'train_loss': 0.5544024705886841},\n",
              " {'step': 47958, 'train_loss': 0.6806844472885132},\n",
              " {'step': 47959, 'train_loss': 0.7058975696563721},\n",
              " {'step': 47960, 'train_loss': 0.48892274498939514},\n",
              " {'step': 47961, 'train_loss': 0.5329865217208862},\n",
              " {'step': 47962, 'train_loss': 0.45607757568359375},\n",
              " {'step': 47963, 'train_loss': 0.5170031785964966},\n",
              " {'step': 47964, 'train_loss': 0.5902136564254761},\n",
              " {'step': 47965, 'train_loss': 0.5519786477088928},\n",
              " {'step': 47966, 'train_loss': 0.5210643410682678},\n",
              " {'step': 47967, 'train_loss': 0.5269323587417603},\n",
              " {'step': 47968, 'train_loss': 0.35542136430740356},\n",
              " {'step': 47969, 'train_loss': 0.43195024132728577},\n",
              " {'step': 47970, 'train_loss': 0.5917466878890991},\n",
              " {'step': 47971, 'train_loss': 0.5346629023551941},\n",
              " {'step': 47972, 'train_loss': 0.5863202810287476},\n",
              " {'step': 47973, 'train_loss': 0.40087130665779114},\n",
              " {'step': 47974, 'train_loss': 0.34622880816459656},\n",
              " {'step': 47975, 'train_loss': 0.6411471366882324},\n",
              " {'step': 47976, 'train_loss': 0.6329604387283325},\n",
              " {'step': 47977, 'train_loss': 0.6269014477729797},\n",
              " {'step': 47978, 'train_loss': 0.5144991874694824},\n",
              " {'step': 47979, 'train_loss': 0.4046768546104431},\n",
              " {'step': 47980, 'train_loss': 0.31273284554481506},\n",
              " {'step': 47981, 'train_loss': 0.5771557688713074},\n",
              " {'step': 47982, 'train_loss': 0.5944180488586426},\n",
              " {'step': 47983, 'train_loss': 0.38600295782089233},\n",
              " {'step': 47984, 'train_loss': 0.533158540725708},\n",
              " {'step': 47985, 'train_loss': 0.508078396320343},\n",
              " {'step': 47986, 'train_loss': 0.5600263476371765},\n",
              " {'step': 47987, 'train_loss': 0.46139776706695557},\n",
              " {'step': 47988, 'train_loss': 0.49017226696014404},\n",
              " {'step': 47989, 'train_loss': 0.6181043386459351},\n",
              " {'step': 47990, 'train_loss': 0.38638895750045776},\n",
              " {'step': 47991, 'train_loss': 0.5334241390228271},\n",
              " {'step': 47992, 'train_loss': 0.5850602984428406},\n",
              " {'step': 47993, 'train_loss': 0.7575892210006714},\n",
              " {'step': 47994, 'train_loss': 0.5625627040863037},\n",
              " {'step': 47995, 'train_loss': 0.49495306611061096},\n",
              " {'step': 47996, 'train_loss': 0.5515804290771484},\n",
              " {'step': 47997, 'train_loss': 0.4794599711894989},\n",
              " {'step': 47998, 'train_loss': 0.4817139506340027},\n",
              " {'step': 47999, 'train_loss': 0.5427042245864868},\n",
              " {'step': 48000,\n",
              "  'train_loss': 0.42487388849258423,\n",
              "  'valid_error': 0.08024147052838636}]"
            ]
          },
          "metadata": {
            "tags": []
          },
          "execution_count": 42
        }
      ]
    },
    {
      "cell_type": "code",
      "metadata": {
        "id": "WFXY2mqJu3fd",
        "colab_type": "code",
        "colab": {}
      },
      "source": [
        "test_df = pd.read_csv('/content/drive/My Drive/Thesis/phase-2/history_sentence_pairs_test_unseen.csv')\n",
        "test_df.fillna(' ', inplace=True)\n",
        "mrr_df = pd.DataFrame(data=test_df.history.unique(), columns=['history'])\n",
        "mrr_df['correct_rank'] = 0"
      ],
      "execution_count": null,
      "outputs": []
    },
    {
      "cell_type": "code",
      "metadata": {
        "id": "h3qlXLdbsgHZ",
        "colab_type": "code",
        "colab": {}
      },
      "source": [
        "test_df_gb = test_df.groupby(['history','true_sentence'])\n",
        "i = 0\n",
        "for case in tqdm(test_df_gb):\n",
        "  history = case[0][0]\n",
        "  true_sentence = case[0][1]\n",
        "  true_pair_untensor, true_segment_untensor = MyDataset.truncuate_join_pair_sentence(history, true_sentence, max_len=128)\n",
        "  true_pair =  torch.LongTensor(true_pair_untensor).reshape(1, -1).to(dev)\n",
        "  true_segment =  torch.LongTensor(true_segment_untensor).reshape(1, -1).to(dev)\n",
        "  true_sml = model(true_pair, true_segment)\n",
        "  case_df = case[1]\n",
        "  for false_sentence in case_df['false_sentence']:\n",
        "    false_pair_untensor, false_segment_untensor = MyDataset.truncuate_join_pair_sentence(history, false_sentence, max_len=128)\n",
        "    false_pair =  torch.LongTensor(false_pair_untensor).reshape(1, -1).to(dev)\n",
        "    false_segment =  torch.LongTensor(false_segment_untensor).reshape(1, -1).to(dev)\n",
        "    false_sml = model(false_pair, false_segment)\n",
        "    if(true_sml.item() < false_sml.item()):\n",
        "      mrr_df.loc[mrr_df['history']==history, 'correct_rank'] += 1\n",
        "  i+=1\n",
        "  if i% 50 == 0 :\n",
        "    print(len(mrr_df[ mrr_df['correct_rank'] < 1 ]) / len(mrr_df))"
      ],
      "execution_count": null,
      "outputs": []
    },
    {
      "cell_type": "code",
      "metadata": {
        "id": "FIe-JndB7dRs",
        "colab_type": "code",
        "colab": {
          "base_uri": "https://localhost:8080/",
          "height": 35
        },
        "outputId": "42a86aba-6c0c-45f9-da3e-3bbd37c6b8ad"
      },
      "source": [
        "len(mrr_df[ mrr_df['correct_rank'] < 1 ]) / len(mrr_df)"
      ],
      "execution_count": null,
      "outputs": [
        {
          "output_type": "execute_result",
          "data": {
            "text/plain": [
              "0.287338893100834"
            ]
          },
          "metadata": {
            "tags": []
          },
          "execution_count": 48
        }
      ]
    },
    {
      "cell_type": "code",
      "metadata": {
        "id": "v8qIPu-kh6Ls",
        "colab_type": "code",
        "colab": {
          "base_uri": "https://localhost:8080/",
          "height": 792,
          "referenced_widgets": [
            "f8c55c5030e2433596bb1f88ebf43748",
            "f509210f53cb4660a04f3ef1beb5cb68",
            "f5a59ad865864b34a463fcea576dc392",
            "9feec1c35b7441c9a39c67221b19bc71",
            "1af6f3092f304f03844ca957735e5ac4",
            "a4883233f5754ffa84b83069820f9521",
            "4b8f19af49c544d0ba45cc3bc09c7b5b",
            "2d41e40732d740d98d2b163d922aba6b"
          ]
        },
        "outputId": "efb8076b-2da4-4b0f-f73c-b7a3f4c56076"
      },
      "source": [
        "test_df_gb = test_df.groupby(['history','true_sentence'])\n",
        "f_scores = []\n",
        "i = 0\n",
        "for case in tqdm(test_df_gb):\n",
        "  history = case[0][0]\n",
        "  true_sentence = case[0][1]\n",
        "  true_pair_untensor, true_segment_untensor = MyDataset.truncuate_join_pair_sentence(history, true_sentence, max_len=128)\n",
        "  true_pair =  torch.LongTensor(true_pair_untensor).reshape(1, -1).to(dev)\n",
        "  true_segment =  torch.LongTensor(true_segment_untensor).reshape(1, -1).to(dev)\n",
        "  true_sml = model(true_pair, true_segment)\n",
        "  max_sml = true_sml\n",
        "  candidated = true_sentence\n",
        "  case_df = case[1]\n",
        "  for false_sentence in case_df['false_sentence']:\n",
        "    false_pair_untensor, false_segment_untensor = MyDataset.truncuate_join_pair_sentence(history, false_sentence, max_len=128)\n",
        "    false_pair =  torch.LongTensor(false_pair_untensor).reshape(1, -1).to(dev)\n",
        "    false_segment =  torch.LongTensor(false_segment_untensor).reshape(1, -1).to(dev)\n",
        "    false_sml = model(false_pair, false_segment)\n",
        "    if false_sml > max_sml:\n",
        "      max_sml = false_sml\n",
        "      candidated = false_sentence\n",
        "  union = set(tokenizer.encode(true_sentence)).union(tokenizer.encode(candidated))\n",
        "  intersection = set(tokenizer.encode(true_sentence)).intersection(tokenizer.encode(candidated))\n",
        "  recall = len(intersection) / len(tokenizer.encode(true_sentence))\n",
        "  precision = len(intersection) / len(tokenizer.encode(candidated))\n",
        "  try:\n",
        "    f1_score = 2 * (precision * recall) / (precision + recall)\n",
        "  except:\n",
        "    f1_score = 0\n",
        "  f_scores.append(f1_score)\n",
        "  if i % 100 == 0:\n",
        "    print(sum(f_scores) / len(f_scores))\n",
        "  i+= 1"
      ],
      "execution_count": null,
      "outputs": [
        {
          "output_type": "display_data",
          "data": {
            "application/vnd.jupyter.widget-view+json": {
              "model_id": "f8c55c5030e2433596bb1f88ebf43748",
              "version_minor": 0,
              "version_major": 2
            },
            "text/plain": [
              "HBox(children=(FloatProgress(value=0.0, max=4037.0), HTML(value='')))"
            ]
          },
          "metadata": {
            "tags": []
          }
        },
        {
          "output_type": "stream",
          "text": [
            "0.2222222222222222\n",
            "0.34927311225936813\n",
            "0.370981839705166\n",
            "0.39512472396270004\n",
            "0.4023254432712378\n",
            "0.41937820781652896\n",
            "0.41094407773046016\n",
            "0.41195723158679887\n",
            "0.41572786204289125\n",
            "0.4163416482003605\n",
            "0.42465654500227856\n",
            "0.42747512967589424\n",
            "0.4257720796707012\n",
            "0.42363082655423673\n",
            "0.41924859792334207\n",
            "0.4202713213622579\n",
            "0.4206817095808179\n",
            "0.4159284658985438\n",
            "0.4155499033873721\n",
            "0.4159068015993876\n",
            "0.4152150449157179\n",
            "0.4162577649824226\n",
            "0.4156219852473084\n",
            "0.41598464264496365\n",
            "0.4159900541775666\n",
            "0.41556463206915195\n",
            "0.41517662160344604\n",
            "0.4173542861178936\n",
            "0.41624090091050253\n",
            "0.4181287899263929\n",
            "0.41867572817230436\n",
            "0.42121266539641894\n",
            "0.4222531764728418\n",
            "0.42137709886926195\n",
            "0.42197145775852796\n",
            "0.42520339726579137\n",
            "0.42648748824761545\n",
            "0.42710766388003724\n",
            "0.42867978097325715\n",
            "0.4298568543389884\n",
            "0.4285581150982507\n",
            "\n"
          ],
          "name": "stdout"
        }
      ]
    }
  ]
}