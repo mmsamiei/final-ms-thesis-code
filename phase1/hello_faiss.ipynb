{
  "nbformat": 4,
  "nbformat_minor": 0,
  "metadata": {
    "colab": {
      "name": "Untitled193.ipynb",
      "provenance": [],
      "authorship_tag": "ABX9TyND2mpnaUnbJ5VNfH6p9r7L",
      "include_colab_link": true
    },
    "kernelspec": {
      "name": "python3",
      "display_name": "Python 3"
    },
    "widgets": {
      "application/vnd.jupyter.widget-state+json": {
        "c583db55c0b4496290f5e6c3aaebe3ac": {
          "model_module": "@jupyter-widgets/controls",
          "model_name": "HBoxModel",
          "state": {
            "_view_name": "HBoxView",
            "_dom_classes": [],
            "_model_name": "HBoxModel",
            "_view_module": "@jupyter-widgets/controls",
            "_model_module_version": "1.5.0",
            "_view_count": null,
            "_view_module_version": "1.5.0",
            "box_style": "",
            "layout": "IPY_MODEL_9a2147747c2f4120bc2163946bfd6992",
            "_model_module": "@jupyter-widgets/controls",
            "children": [
              "IPY_MODEL_f4fde204d1da4032ba139b51664349ed",
              "IPY_MODEL_cbaa91ba99b1429a8d69275aa41ae745"
            ]
          }
        },
        "9a2147747c2f4120bc2163946bfd6992": {
          "model_module": "@jupyter-widgets/base",
          "model_name": "LayoutModel",
          "state": {
            "_view_name": "LayoutView",
            "grid_template_rows": null,
            "right": null,
            "justify_content": null,
            "_view_module": "@jupyter-widgets/base",
            "overflow": null,
            "_model_module_version": "1.2.0",
            "_view_count": null,
            "flex_flow": null,
            "width": null,
            "min_width": null,
            "border": null,
            "align_items": null,
            "bottom": null,
            "_model_module": "@jupyter-widgets/base",
            "top": null,
            "grid_column": null,
            "overflow_y": null,
            "overflow_x": null,
            "grid_auto_flow": null,
            "grid_area": null,
            "grid_template_columns": null,
            "flex": null,
            "_model_name": "LayoutModel",
            "justify_items": null,
            "grid_row": null,
            "max_height": null,
            "align_content": null,
            "visibility": null,
            "align_self": null,
            "height": null,
            "min_height": null,
            "padding": null,
            "grid_auto_rows": null,
            "grid_gap": null,
            "max_width": null,
            "order": null,
            "_view_module_version": "1.2.0",
            "grid_template_areas": null,
            "object_position": null,
            "object_fit": null,
            "grid_auto_columns": null,
            "margin": null,
            "display": null,
            "left": null
          }
        },
        "f4fde204d1da4032ba139b51664349ed": {
          "model_module": "@jupyter-widgets/controls",
          "model_name": "FloatProgressModel",
          "state": {
            "_view_name": "ProgressView",
            "style": "IPY_MODEL_12da17d73c4e4375b6abd87ad9f5e198",
            "_dom_classes": [],
            "description": "100%",
            "_model_name": "FloatProgressModel",
            "bar_style": "success",
            "max": 500,
            "_view_module": "@jupyter-widgets/controls",
            "_model_module_version": "1.5.0",
            "value": 500,
            "_view_count": null,
            "_view_module_version": "1.5.0",
            "orientation": "horizontal",
            "min": 0,
            "description_tooltip": null,
            "_model_module": "@jupyter-widgets/controls",
            "layout": "IPY_MODEL_063656b267714f95a3d2f9621d473f36"
          }
        },
        "cbaa91ba99b1429a8d69275aa41ae745": {
          "model_module": "@jupyter-widgets/controls",
          "model_name": "HTMLModel",
          "state": {
            "_view_name": "HTMLView",
            "style": "IPY_MODEL_548dc2dae3fc4867a438ccd220642d23",
            "_dom_classes": [],
            "description": "",
            "_model_name": "HTMLModel",
            "placeholder": "​",
            "_view_module": "@jupyter-widgets/controls",
            "_model_module_version": "1.5.0",
            "value": " 500/500 [00:07&lt;00:00, 69.87it/s]",
            "_view_count": null,
            "_view_module_version": "1.5.0",
            "description_tooltip": null,
            "_model_module": "@jupyter-widgets/controls",
            "layout": "IPY_MODEL_102e8cf50f544febae08e2259eb36ea0"
          }
        },
        "12da17d73c4e4375b6abd87ad9f5e198": {
          "model_module": "@jupyter-widgets/controls",
          "model_name": "ProgressStyleModel",
          "state": {
            "_view_name": "StyleView",
            "_model_name": "ProgressStyleModel",
            "description_width": "initial",
            "_view_module": "@jupyter-widgets/base",
            "_model_module_version": "1.5.0",
            "_view_count": null,
            "_view_module_version": "1.2.0",
            "bar_color": null,
            "_model_module": "@jupyter-widgets/controls"
          }
        },
        "063656b267714f95a3d2f9621d473f36": {
          "model_module": "@jupyter-widgets/base",
          "model_name": "LayoutModel",
          "state": {
            "_view_name": "LayoutView",
            "grid_template_rows": null,
            "right": null,
            "justify_content": null,
            "_view_module": "@jupyter-widgets/base",
            "overflow": null,
            "_model_module_version": "1.2.0",
            "_view_count": null,
            "flex_flow": null,
            "width": null,
            "min_width": null,
            "border": null,
            "align_items": null,
            "bottom": null,
            "_model_module": "@jupyter-widgets/base",
            "top": null,
            "grid_column": null,
            "overflow_y": null,
            "overflow_x": null,
            "grid_auto_flow": null,
            "grid_area": null,
            "grid_template_columns": null,
            "flex": null,
            "_model_name": "LayoutModel",
            "justify_items": null,
            "grid_row": null,
            "max_height": null,
            "align_content": null,
            "visibility": null,
            "align_self": null,
            "height": null,
            "min_height": null,
            "padding": null,
            "grid_auto_rows": null,
            "grid_gap": null,
            "max_width": null,
            "order": null,
            "_view_module_version": "1.2.0",
            "grid_template_areas": null,
            "object_position": null,
            "object_fit": null,
            "grid_auto_columns": null,
            "margin": null,
            "display": null,
            "left": null
          }
        },
        "548dc2dae3fc4867a438ccd220642d23": {
          "model_module": "@jupyter-widgets/controls",
          "model_name": "DescriptionStyleModel",
          "state": {
            "_view_name": "StyleView",
            "_model_name": "DescriptionStyleModel",
            "description_width": "",
            "_view_module": "@jupyter-widgets/base",
            "_model_module_version": "1.5.0",
            "_view_count": null,
            "_view_module_version": "1.2.0",
            "_model_module": "@jupyter-widgets/controls"
          }
        },
        "102e8cf50f544febae08e2259eb36ea0": {
          "model_module": "@jupyter-widgets/base",
          "model_name": "LayoutModel",
          "state": {
            "_view_name": "LayoutView",
            "grid_template_rows": null,
            "right": null,
            "justify_content": null,
            "_view_module": "@jupyter-widgets/base",
            "overflow": null,
            "_model_module_version": "1.2.0",
            "_view_count": null,
            "flex_flow": null,
            "width": null,
            "min_width": null,
            "border": null,
            "align_items": null,
            "bottom": null,
            "_model_module": "@jupyter-widgets/base",
            "top": null,
            "grid_column": null,
            "overflow_y": null,
            "overflow_x": null,
            "grid_auto_flow": null,
            "grid_area": null,
            "grid_template_columns": null,
            "flex": null,
            "_model_name": "LayoutModel",
            "justify_items": null,
            "grid_row": null,
            "max_height": null,
            "align_content": null,
            "visibility": null,
            "align_self": null,
            "height": null,
            "min_height": null,
            "padding": null,
            "grid_auto_rows": null,
            "grid_gap": null,
            "max_width": null,
            "order": null,
            "_view_module_version": "1.2.0",
            "grid_template_areas": null,
            "object_position": null,
            "object_fit": null,
            "grid_auto_columns": null,
            "margin": null,
            "display": null,
            "left": null
          }
        },
        "1ee057272ca94b34842810fed8709951": {
          "model_module": "@jupyter-widgets/controls",
          "model_name": "HBoxModel",
          "state": {
            "_view_name": "HBoxView",
            "_dom_classes": [],
            "_model_name": "HBoxModel",
            "_view_module": "@jupyter-widgets/controls",
            "_model_module_version": "1.5.0",
            "_view_count": null,
            "_view_module_version": "1.5.0",
            "box_style": "",
            "layout": "IPY_MODEL_5936a5c101fd4c76a1e29ea57d225c50",
            "_model_module": "@jupyter-widgets/controls",
            "children": [
              "IPY_MODEL_3c8687eb91384ffda68c878e29d9fdb6",
              "IPY_MODEL_beb8375e889740d4ad63f72f35a2eaf1"
            ]
          }
        },
        "5936a5c101fd4c76a1e29ea57d225c50": {
          "model_module": "@jupyter-widgets/base",
          "model_name": "LayoutModel",
          "state": {
            "_view_name": "LayoutView",
            "grid_template_rows": null,
            "right": null,
            "justify_content": null,
            "_view_module": "@jupyter-widgets/base",
            "overflow": null,
            "_model_module_version": "1.2.0",
            "_view_count": null,
            "flex_flow": null,
            "width": null,
            "min_width": null,
            "border": null,
            "align_items": null,
            "bottom": null,
            "_model_module": "@jupyter-widgets/base",
            "top": null,
            "grid_column": null,
            "overflow_y": null,
            "overflow_x": null,
            "grid_auto_flow": null,
            "grid_area": null,
            "grid_template_columns": null,
            "flex": null,
            "_model_name": "LayoutModel",
            "justify_items": null,
            "grid_row": null,
            "max_height": null,
            "align_content": null,
            "visibility": null,
            "align_self": null,
            "height": null,
            "min_height": null,
            "padding": null,
            "grid_auto_rows": null,
            "grid_gap": null,
            "max_width": null,
            "order": null,
            "_view_module_version": "1.2.0",
            "grid_template_areas": null,
            "object_position": null,
            "object_fit": null,
            "grid_auto_columns": null,
            "margin": null,
            "display": null,
            "left": null
          }
        },
        "3c8687eb91384ffda68c878e29d9fdb6": {
          "model_module": "@jupyter-widgets/controls",
          "model_name": "FloatProgressModel",
          "state": {
            "_view_name": "ProgressView",
            "style": "IPY_MODEL_d35a983b753140b9a115b2f9cd18f0d3",
            "_dom_classes": [],
            "description": "100%",
            "_model_name": "FloatProgressModel",
            "bar_style": "success",
            "max": 1,
            "_view_module": "@jupyter-widgets/controls",
            "_model_module_version": "1.5.0",
            "value": 1,
            "_view_count": null,
            "_view_module_version": "1.5.0",
            "orientation": "horizontal",
            "min": 0,
            "description_tooltip": null,
            "_model_module": "@jupyter-widgets/controls",
            "layout": "IPY_MODEL_1d5c4f0259184889b06e8604d688e6d9"
          }
        },
        "beb8375e889740d4ad63f72f35a2eaf1": {
          "model_module": "@jupyter-widgets/controls",
          "model_name": "HTMLModel",
          "state": {
            "_view_name": "HTMLView",
            "style": "IPY_MODEL_2c321ade6dc44479bdc5edfeec7c2567",
            "_dom_classes": [],
            "description": "",
            "_model_name": "HTMLModel",
            "placeholder": "​",
            "_view_module": "@jupyter-widgets/controls",
            "_model_module_version": "1.5.0",
            "value": " 1/1 [00:03&lt;00:00,  3.42s/it]",
            "_view_count": null,
            "_view_module_version": "1.5.0",
            "description_tooltip": null,
            "_model_module": "@jupyter-widgets/controls",
            "layout": "IPY_MODEL_c1a71371ec4940d2b3f850cd5294bd8f"
          }
        },
        "d35a983b753140b9a115b2f9cd18f0d3": {
          "model_module": "@jupyter-widgets/controls",
          "model_name": "ProgressStyleModel",
          "state": {
            "_view_name": "StyleView",
            "_model_name": "ProgressStyleModel",
            "description_width": "initial",
            "_view_module": "@jupyter-widgets/base",
            "_model_module_version": "1.5.0",
            "_view_count": null,
            "_view_module_version": "1.2.0",
            "bar_color": null,
            "_model_module": "@jupyter-widgets/controls"
          }
        },
        "1d5c4f0259184889b06e8604d688e6d9": {
          "model_module": "@jupyter-widgets/base",
          "model_name": "LayoutModel",
          "state": {
            "_view_name": "LayoutView",
            "grid_template_rows": null,
            "right": null,
            "justify_content": null,
            "_view_module": "@jupyter-widgets/base",
            "overflow": null,
            "_model_module_version": "1.2.0",
            "_view_count": null,
            "flex_flow": null,
            "width": null,
            "min_width": null,
            "border": null,
            "align_items": null,
            "bottom": null,
            "_model_module": "@jupyter-widgets/base",
            "top": null,
            "grid_column": null,
            "overflow_y": null,
            "overflow_x": null,
            "grid_auto_flow": null,
            "grid_area": null,
            "grid_template_columns": null,
            "flex": null,
            "_model_name": "LayoutModel",
            "justify_items": null,
            "grid_row": null,
            "max_height": null,
            "align_content": null,
            "visibility": null,
            "align_self": null,
            "height": null,
            "min_height": null,
            "padding": null,
            "grid_auto_rows": null,
            "grid_gap": null,
            "max_width": null,
            "order": null,
            "_view_module_version": "1.2.0",
            "grid_template_areas": null,
            "object_position": null,
            "object_fit": null,
            "grid_auto_columns": null,
            "margin": null,
            "display": null,
            "left": null
          }
        },
        "2c321ade6dc44479bdc5edfeec7c2567": {
          "model_module": "@jupyter-widgets/controls",
          "model_name": "DescriptionStyleModel",
          "state": {
            "_view_name": "StyleView",
            "_model_name": "DescriptionStyleModel",
            "description_width": "",
            "_view_module": "@jupyter-widgets/base",
            "_model_module_version": "1.5.0",
            "_view_count": null,
            "_view_module_version": "1.2.0",
            "_model_module": "@jupyter-widgets/controls"
          }
        },
        "c1a71371ec4940d2b3f850cd5294bd8f": {
          "model_module": "@jupyter-widgets/base",
          "model_name": "LayoutModel",
          "state": {
            "_view_name": "LayoutView",
            "grid_template_rows": null,
            "right": null,
            "justify_content": null,
            "_view_module": "@jupyter-widgets/base",
            "overflow": null,
            "_model_module_version": "1.2.0",
            "_view_count": null,
            "flex_flow": null,
            "width": null,
            "min_width": null,
            "border": null,
            "align_items": null,
            "bottom": null,
            "_model_module": "@jupyter-widgets/base",
            "top": null,
            "grid_column": null,
            "overflow_y": null,
            "overflow_x": null,
            "grid_auto_flow": null,
            "grid_area": null,
            "grid_template_columns": null,
            "flex": null,
            "_model_name": "LayoutModel",
            "justify_items": null,
            "grid_row": null,
            "max_height": null,
            "align_content": null,
            "visibility": null,
            "align_self": null,
            "height": null,
            "min_height": null,
            "padding": null,
            "grid_auto_rows": null,
            "grid_gap": null,
            "max_width": null,
            "order": null,
            "_view_module_version": "1.2.0",
            "grid_template_areas": null,
            "object_position": null,
            "object_fit": null,
            "grid_auto_columns": null,
            "margin": null,
            "display": null,
            "left": null
          }
        }
      }
    }
  },
  "cells": [
    {
      "cell_type": "markdown",
      "metadata": {
        "id": "view-in-github",
        "colab_type": "text"
      },
      "source": [
        "<a href=\"https://colab.research.google.com/github/mmsamiei/final-ms-thesis-code/blob/master/phase1/hello_faiss.ipynb\" target=\"_parent\"><img src=\"https://colab.research.google.com/assets/colab-badge.svg\" alt=\"Open In Colab\"/></a>"
      ]
    },
    {
      "cell_type": "code",
      "metadata": {
        "id": "DIiTd3iG5jaY",
        "colab_type": "code",
        "colab": {
          "base_uri": "https://localhost:8080/",
          "height": 1000
        },
        "outputId": "9e596e22-119c-41cb-a504-7a27a8398e45"
      },
      "source": [
        "!pip install nlp\n",
        "!pip install transformers\n",
        "!pip install faiss-cpu"
      ],
      "execution_count": 1,
      "outputs": [
        {
          "output_type": "stream",
          "text": [
            "Collecting nlp\n",
            "\u001b[?25l  Downloading https://files.pythonhosted.org/packages/09/e3/bcdc59f3434b224040c1047769c47b82705feca2b89ebbc28311e3764782/nlp-0.4.0-py3-none-any.whl (1.7MB)\n",
            "\r\u001b[K     |▏                               | 10kB 16.5MB/s eta 0:00:01\r\u001b[K     |▍                               | 20kB 5.8MB/s eta 0:00:01\r\u001b[K     |▋                               | 30kB 7.3MB/s eta 0:00:01\r\u001b[K     |▉                               | 40kB 8.1MB/s eta 0:00:01\r\u001b[K     |█                               | 51kB 6.3MB/s eta 0:00:01\r\u001b[K     |█▏                              | 61kB 6.9MB/s eta 0:00:01\r\u001b[K     |█▍                              | 71kB 7.2MB/s eta 0:00:01\r\u001b[K     |█▋                              | 81kB 7.8MB/s eta 0:00:01\r\u001b[K     |█▉                              | 92kB 7.4MB/s eta 0:00:01\r\u001b[K     |██                              | 102kB 7.7MB/s eta 0:00:01\r\u001b[K     |██▏                             | 112kB 7.7MB/s eta 0:00:01\r\u001b[K     |██▍                             | 122kB 7.7MB/s eta 0:00:01\r\u001b[K     |██▋                             | 133kB 7.7MB/s eta 0:00:01\r\u001b[K     |██▊                             | 143kB 7.7MB/s eta 0:00:01\r\u001b[K     |███                             | 153kB 7.7MB/s eta 0:00:01\r\u001b[K     |███▏                            | 163kB 7.7MB/s eta 0:00:01\r\u001b[K     |███▍                            | 174kB 7.7MB/s eta 0:00:01\r\u001b[K     |███▋                            | 184kB 7.7MB/s eta 0:00:01\r\u001b[K     |███▊                            | 194kB 7.7MB/s eta 0:00:01\r\u001b[K     |████                            | 204kB 7.7MB/s eta 0:00:01\r\u001b[K     |████▏                           | 215kB 7.7MB/s eta 0:00:01\r\u001b[K     |████▍                           | 225kB 7.7MB/s eta 0:00:01\r\u001b[K     |████▌                           | 235kB 7.7MB/s eta 0:00:01\r\u001b[K     |████▊                           | 245kB 7.7MB/s eta 0:00:01\r\u001b[K     |█████                           | 256kB 7.7MB/s eta 0:00:01\r\u001b[K     |█████▏                          | 266kB 7.7MB/s eta 0:00:01\r\u001b[K     |█████▍                          | 276kB 7.7MB/s eta 0:00:01\r\u001b[K     |█████▌                          | 286kB 7.7MB/s eta 0:00:01\r\u001b[K     |█████▊                          | 296kB 7.7MB/s eta 0:00:01\r\u001b[K     |██████                          | 307kB 7.7MB/s eta 0:00:01\r\u001b[K     |██████▏                         | 317kB 7.7MB/s eta 0:00:01\r\u001b[K     |██████▎                         | 327kB 7.7MB/s eta 0:00:01\r\u001b[K     |██████▌                         | 337kB 7.7MB/s eta 0:00:01\r\u001b[K     |██████▊                         | 348kB 7.7MB/s eta 0:00:01\r\u001b[K     |███████                         | 358kB 7.7MB/s eta 0:00:01\r\u001b[K     |███████▏                        | 368kB 7.7MB/s eta 0:00:01\r\u001b[K     |███████▎                        | 378kB 7.7MB/s eta 0:00:01\r\u001b[K     |███████▌                        | 389kB 7.7MB/s eta 0:00:01\r\u001b[K     |███████▊                        | 399kB 7.7MB/s eta 0:00:01\r\u001b[K     |████████                        | 409kB 7.7MB/s eta 0:00:01\r\u001b[K     |████████                        | 419kB 7.7MB/s eta 0:00:01\r\u001b[K     |████████▎                       | 430kB 7.7MB/s eta 0:00:01\r\u001b[K     |████████▌                       | 440kB 7.7MB/s eta 0:00:01\r\u001b[K     |████████▊                       | 450kB 7.7MB/s eta 0:00:01\r\u001b[K     |█████████                       | 460kB 7.7MB/s eta 0:00:01\r\u001b[K     |█████████                       | 471kB 7.7MB/s eta 0:00:01\r\u001b[K     |█████████▎                      | 481kB 7.7MB/s eta 0:00:01\r\u001b[K     |█████████▌                      | 491kB 7.7MB/s eta 0:00:01\r\u001b[K     |█████████▊                      | 501kB 7.7MB/s eta 0:00:01\r\u001b[K     |█████████▉                      | 512kB 7.7MB/s eta 0:00:01\r\u001b[K     |██████████                      | 522kB 7.7MB/s eta 0:00:01\r\u001b[K     |██████████▎                     | 532kB 7.7MB/s eta 0:00:01\r\u001b[K     |██████████▌                     | 542kB 7.7MB/s eta 0:00:01\r\u001b[K     |██████████▊                     | 552kB 7.7MB/s eta 0:00:01\r\u001b[K     |██████████▉                     | 563kB 7.7MB/s eta 0:00:01\r\u001b[K     |███████████                     | 573kB 7.7MB/s eta 0:00:01\r\u001b[K     |███████████▎                    | 583kB 7.7MB/s eta 0:00:01\r\u001b[K     |███████████▌                    | 593kB 7.7MB/s eta 0:00:01\r\u001b[K     |███████████▋                    | 604kB 7.7MB/s eta 0:00:01\r\u001b[K     |███████████▉                    | 614kB 7.7MB/s eta 0:00:01\r\u001b[K     |████████████                    | 624kB 7.7MB/s eta 0:00:01\r\u001b[K     |████████████▎                   | 634kB 7.7MB/s eta 0:00:01\r\u001b[K     |████████████▌                   | 645kB 7.7MB/s eta 0:00:01\r\u001b[K     |████████████▋                   | 655kB 7.7MB/s eta 0:00:01\r\u001b[K     |████████████▉                   | 665kB 7.7MB/s eta 0:00:01\r\u001b[K     |█████████████                   | 675kB 7.7MB/s eta 0:00:01\r\u001b[K     |█████████████▎                  | 686kB 7.7MB/s eta 0:00:01\r\u001b[K     |█████████████▍                  | 696kB 7.7MB/s eta 0:00:01\r\u001b[K     |█████████████▋                  | 706kB 7.7MB/s eta 0:00:01\r\u001b[K     |█████████████▉                  | 716kB 7.7MB/s eta 0:00:01\r\u001b[K     |██████████████                  | 727kB 7.7MB/s eta 0:00:01\r\u001b[K     |██████████████▎                 | 737kB 7.7MB/s eta 0:00:01\r\u001b[K     |██████████████▍                 | 747kB 7.7MB/s eta 0:00:01\r\u001b[K     |██████████████▋                 | 757kB 7.7MB/s eta 0:00:01\r\u001b[K     |██████████████▉                 | 768kB 7.7MB/s eta 0:00:01\r\u001b[K     |███████████████                 | 778kB 7.7MB/s eta 0:00:01\r\u001b[K     |███████████████▏                | 788kB 7.7MB/s eta 0:00:01\r\u001b[K     |███████████████▍                | 798kB 7.7MB/s eta 0:00:01\r\u001b[K     |███████████████▋                | 808kB 7.7MB/s eta 0:00:01\r\u001b[K     |███████████████▉                | 819kB 7.7MB/s eta 0:00:01\r\u001b[K     |████████████████                | 829kB 7.7MB/s eta 0:00:01\r\u001b[K     |████████████████▏               | 839kB 7.7MB/s eta 0:00:01\r\u001b[K     |████████████████▍               | 849kB 7.7MB/s eta 0:00:01\r\u001b[K     |████████████████▋               | 860kB 7.7MB/s eta 0:00:01\r\u001b[K     |████████████████▉               | 870kB 7.7MB/s eta 0:00:01\r\u001b[K     |█████████████████               | 880kB 7.7MB/s eta 0:00:01\r\u001b[K     |█████████████████▏              | 890kB 7.7MB/s eta 0:00:01\r\u001b[K     |█████████████████▍              | 901kB 7.7MB/s eta 0:00:01\r\u001b[K     |█████████████████▋              | 911kB 7.7MB/s eta 0:00:01\r\u001b[K     |█████████████████▉              | 921kB 7.7MB/s eta 0:00:01\r\u001b[K     |██████████████████              | 931kB 7.7MB/s eta 0:00:01\r\u001b[K     |██████████████████▏             | 942kB 7.7MB/s eta 0:00:01\r\u001b[K     |██████████████████▍             | 952kB 7.7MB/s eta 0:00:01\r\u001b[K     |██████████████████▋             | 962kB 7.7MB/s eta 0:00:01\r\u001b[K     |██████████████████▊             | 972kB 7.7MB/s eta 0:00:01\r\u001b[K     |███████████████████             | 983kB 7.7MB/s eta 0:00:01\r\u001b[K     |███████████████████▏            | 993kB 7.7MB/s eta 0:00:01\r\u001b[K     |███████████████████▍            | 1.0MB 7.7MB/s eta 0:00:01\r\u001b[K     |███████████████████▋            | 1.0MB 7.7MB/s eta 0:00:01\r\u001b[K     |███████████████████▊            | 1.0MB 7.7MB/s eta 0:00:01\r\u001b[K     |████████████████████            | 1.0MB 7.7MB/s eta 0:00:01\r\u001b[K     |████████████████████▏           | 1.0MB 7.7MB/s eta 0:00:01\r\u001b[K     |████████████████████▍           | 1.1MB 7.7MB/s eta 0:00:01\r\u001b[K     |████████████████████▌           | 1.1MB 7.7MB/s eta 0:00:01\r\u001b[K     |████████████████████▊           | 1.1MB 7.7MB/s eta 0:00:01\r\u001b[K     |█████████████████████           | 1.1MB 7.7MB/s eta 0:00:01\r\u001b[K     |█████████████████████▏          | 1.1MB 7.7MB/s eta 0:00:01\r\u001b[K     |█████████████████████▍          | 1.1MB 7.7MB/s eta 0:00:01\r\u001b[K     |█████████████████████▌          | 1.1MB 7.7MB/s eta 0:00:01\r\u001b[K     |█████████████████████▊          | 1.1MB 7.7MB/s eta 0:00:01\r\u001b[K     |██████████████████████          | 1.1MB 7.7MB/s eta 0:00:01\r\u001b[K     |██████████████████████▏         | 1.1MB 7.7MB/s eta 0:00:01\r\u001b[K     |██████████████████████▎         | 1.2MB 7.7MB/s eta 0:00:01\r\u001b[K     |██████████████████████▌         | 1.2MB 7.7MB/s eta 0:00:01\r\u001b[K     |██████████████████████▊         | 1.2MB 7.7MB/s eta 0:00:01\r\u001b[K     |███████████████████████         | 1.2MB 7.7MB/s eta 0:00:01\r\u001b[K     |███████████████████████▏        | 1.2MB 7.7MB/s eta 0:00:01\r\u001b[K     |███████████████████████▎        | 1.2MB 7.7MB/s eta 0:00:01\r\u001b[K     |███████████████████████▌        | 1.2MB 7.7MB/s eta 0:00:01\r\u001b[K     |███████████████████████▊        | 1.2MB 7.7MB/s eta 0:00:01\r\u001b[K     |████████████████████████        | 1.2MB 7.7MB/s eta 0:00:01\r\u001b[K     |████████████████████████        | 1.2MB 7.7MB/s eta 0:00:01\r\u001b[K     |████████████████████████▎       | 1.3MB 7.7MB/s eta 0:00:01\r\u001b[K     |████████████████████████▌       | 1.3MB 7.7MB/s eta 0:00:01\r\u001b[K     |████████████████████████▊       | 1.3MB 7.7MB/s eta 0:00:01\r\u001b[K     |█████████████████████████       | 1.3MB 7.7MB/s eta 0:00:01\r\u001b[K     |█████████████████████████       | 1.3MB 7.7MB/s eta 0:00:01\r\u001b[K     |█████████████████████████▎      | 1.3MB 7.7MB/s eta 0:00:01\r\u001b[K     |█████████████████████████▌      | 1.3MB 7.7MB/s eta 0:00:01\r\u001b[K     |█████████████████████████▊      | 1.3MB 7.7MB/s eta 0:00:01\r\u001b[K     |█████████████████████████▉      | 1.3MB 7.7MB/s eta 0:00:01\r\u001b[K     |██████████████████████████      | 1.4MB 7.7MB/s eta 0:00:01\r\u001b[K     |██████████████████████████▎     | 1.4MB 7.7MB/s eta 0:00:01\r\u001b[K     |██████████████████████████▌     | 1.4MB 7.7MB/s eta 0:00:01\r\u001b[K     |██████████████████████████▊     | 1.4MB 7.7MB/s eta 0:00:01\r\u001b[K     |██████████████████████████▉     | 1.4MB 7.7MB/s eta 0:00:01\r\u001b[K     |███████████████████████████     | 1.4MB 7.7MB/s eta 0:00:01\r\u001b[K     |███████████████████████████▎    | 1.4MB 7.7MB/s eta 0:00:01\r\u001b[K     |███████████████████████████▌    | 1.4MB 7.7MB/s eta 0:00:01\r\u001b[K     |███████████████████████████▋    | 1.4MB 7.7MB/s eta 0:00:01\r\u001b[K     |███████████████████████████▉    | 1.4MB 7.7MB/s eta 0:00:01\r\u001b[K     |████████████████████████████    | 1.5MB 7.7MB/s eta 0:00:01\r\u001b[K     |████████████████████████████▎   | 1.5MB 7.7MB/s eta 0:00:01\r\u001b[K     |████████████████████████████▌   | 1.5MB 7.7MB/s eta 0:00:01\r\u001b[K     |████████████████████████████▋   | 1.5MB 7.7MB/s eta 0:00:01\r\u001b[K     |████████████████████████████▉   | 1.5MB 7.7MB/s eta 0:00:01\r\u001b[K     |█████████████████████████████   | 1.5MB 7.7MB/s eta 0:00:01\r\u001b[K     |█████████████████████████████▎  | 1.5MB 7.7MB/s eta 0:00:01\r\u001b[K     |█████████████████████████████▍  | 1.5MB 7.7MB/s eta 0:00:01\r\u001b[K     |█████████████████████████████▋  | 1.5MB 7.7MB/s eta 0:00:01\r\u001b[K     |█████████████████████████████▉  | 1.5MB 7.7MB/s eta 0:00:01\r\u001b[K     |██████████████████████████████  | 1.6MB 7.7MB/s eta 0:00:01\r\u001b[K     |██████████████████████████████▎ | 1.6MB 7.7MB/s eta 0:00:01\r\u001b[K     |██████████████████████████████▍ | 1.6MB 7.7MB/s eta 0:00:01\r\u001b[K     |██████████████████████████████▋ | 1.6MB 7.7MB/s eta 0:00:01\r\u001b[K     |██████████████████████████████▉ | 1.6MB 7.7MB/s eta 0:00:01\r\u001b[K     |███████████████████████████████ | 1.6MB 7.7MB/s eta 0:00:01\r\u001b[K     |███████████████████████████████▏| 1.6MB 7.7MB/s eta 0:00:01\r\u001b[K     |███████████████████████████████▍| 1.6MB 7.7MB/s eta 0:00:01\r\u001b[K     |███████████████████████████████▋| 1.6MB 7.7MB/s eta 0:00:01\r\u001b[K     |███████████████████████████████▉| 1.6MB 7.7MB/s eta 0:00:01\r\u001b[K     |████████████████████████████████| 1.7MB 7.7MB/s \n",
            "\u001b[?25hRequirement already satisfied: numpy in /usr/local/lib/python3.6/dist-packages (from nlp) (1.18.5)\n",
            "Collecting pyarrow>=0.16.0\n",
            "\u001b[?25l  Downloading https://files.pythonhosted.org/packages/a1/0a/a89de6d747c4698af128a46398703e3d1889f196478fd94a4e16bd1b5c65/pyarrow-1.0.0-cp36-cp36m-manylinux2014_x86_64.whl (17.2MB)\n",
            "\u001b[K     |████████████████████████████████| 17.2MB 240kB/s \n",
            "\u001b[?25hRequirement already satisfied: pandas in /usr/local/lib/python3.6/dist-packages (from nlp) (1.0.5)\n",
            "Requirement already satisfied: dataclasses; python_version < \"3.7\" in /usr/local/lib/python3.6/dist-packages (from nlp) (0.7)\n",
            "Collecting xxhash\n",
            "\u001b[?25l  Downloading https://files.pythonhosted.org/packages/f7/73/826b19f3594756cb1c6c23d2fbd8ca6a77a9cd3b650c9dec5acc85004c38/xxhash-2.0.0-cp36-cp36m-manylinux2010_x86_64.whl (242kB)\n",
            "\u001b[K     |████████████████████████████████| 245kB 46.8MB/s \n",
            "\u001b[?25hRequirement already satisfied: filelock in /usr/local/lib/python3.6/dist-packages (from nlp) (3.0.12)\n",
            "Requirement already satisfied: tqdm>=4.27 in /usr/local/lib/python3.6/dist-packages (from nlp) (4.41.1)\n",
            "Requirement already satisfied: requests>=2.19.0 in /usr/local/lib/python3.6/dist-packages (from nlp) (2.23.0)\n",
            "Requirement already satisfied: dill in /usr/local/lib/python3.6/dist-packages (from nlp) (0.3.2)\n",
            "Requirement already satisfied: python-dateutil>=2.6.1 in /usr/local/lib/python3.6/dist-packages (from pandas->nlp) (2.8.1)\n",
            "Requirement already satisfied: pytz>=2017.2 in /usr/local/lib/python3.6/dist-packages (from pandas->nlp) (2018.9)\n",
            "Requirement already satisfied: certifi>=2017.4.17 in /usr/local/lib/python3.6/dist-packages (from requests>=2.19.0->nlp) (2020.6.20)\n",
            "Requirement already satisfied: chardet<4,>=3.0.2 in /usr/local/lib/python3.6/dist-packages (from requests>=2.19.0->nlp) (3.0.4)\n",
            "Requirement already satisfied: urllib3!=1.25.0,!=1.25.1,<1.26,>=1.21.1 in /usr/local/lib/python3.6/dist-packages (from requests>=2.19.0->nlp) (1.24.3)\n",
            "Requirement already satisfied: idna<3,>=2.5 in /usr/local/lib/python3.6/dist-packages (from requests>=2.19.0->nlp) (2.10)\n",
            "Requirement already satisfied: six>=1.5 in /usr/local/lib/python3.6/dist-packages (from python-dateutil>=2.6.1->pandas->nlp) (1.15.0)\n",
            "Installing collected packages: pyarrow, xxhash, nlp\n",
            "  Found existing installation: pyarrow 0.14.1\n",
            "    Uninstalling pyarrow-0.14.1:\n",
            "      Successfully uninstalled pyarrow-0.14.1\n",
            "Successfully installed nlp-0.4.0 pyarrow-1.0.0 xxhash-2.0.0\n",
            "Collecting transformers\n",
            "\u001b[?25l  Downloading https://files.pythonhosted.org/packages/27/3c/91ed8f5c4e7ef3227b4119200fc0ed4b4fd965b1f0172021c25701087825/transformers-3.0.2-py3-none-any.whl (769kB)\n",
            "\u001b[K     |████████████████████████████████| 778kB 8.2MB/s \n",
            "\u001b[?25hRequirement already satisfied: dataclasses; python_version < \"3.7\" in /usr/local/lib/python3.6/dist-packages (from transformers) (0.7)\n",
            "Requirement already satisfied: packaging in /usr/local/lib/python3.6/dist-packages (from transformers) (20.4)\n",
            "Collecting sacremoses\n",
            "\u001b[?25l  Downloading https://files.pythonhosted.org/packages/7d/34/09d19aff26edcc8eb2a01bed8e98f13a1537005d31e95233fd48216eed10/sacremoses-0.0.43.tar.gz (883kB)\n",
            "\u001b[K     |████████████████████████████████| 890kB 23.5MB/s \n",
            "\u001b[?25hRequirement already satisfied: regex!=2019.12.17 in /usr/local/lib/python3.6/dist-packages (from transformers) (2019.12.20)\n",
            "Collecting tokenizers==0.8.1.rc1\n",
            "\u001b[?25l  Downloading https://files.pythonhosted.org/packages/40/d0/30d5f8d221a0ed981a186c8eb986ce1c94e3a6e87f994eae9f4aa5250217/tokenizers-0.8.1rc1-cp36-cp36m-manylinux1_x86_64.whl (3.0MB)\n",
            "\u001b[K     |████████████████████████████████| 3.0MB 36.9MB/s \n",
            "\u001b[?25hRequirement already satisfied: numpy in /usr/local/lib/python3.6/dist-packages (from transformers) (1.18.5)\n",
            "Requirement already satisfied: filelock in /usr/local/lib/python3.6/dist-packages (from transformers) (3.0.12)\n",
            "Requirement already satisfied: tqdm>=4.27 in /usr/local/lib/python3.6/dist-packages (from transformers) (4.41.1)\n",
            "Requirement already satisfied: requests in /usr/local/lib/python3.6/dist-packages (from transformers) (2.23.0)\n",
            "Collecting sentencepiece!=0.1.92\n",
            "\u001b[?25l  Downloading https://files.pythonhosted.org/packages/d4/a4/d0a884c4300004a78cca907a6ff9a5e9fe4f090f5d95ab341c53d28cbc58/sentencepiece-0.1.91-cp36-cp36m-manylinux1_x86_64.whl (1.1MB)\n",
            "\u001b[K     |████████████████████████████████| 1.1MB 45.2MB/s \n",
            "\u001b[?25hRequirement already satisfied: pyparsing>=2.0.2 in /usr/local/lib/python3.6/dist-packages (from packaging->transformers) (2.4.7)\n",
            "Requirement already satisfied: six in /usr/local/lib/python3.6/dist-packages (from packaging->transformers) (1.15.0)\n",
            "Requirement already satisfied: click in /usr/local/lib/python3.6/dist-packages (from sacremoses->transformers) (7.1.2)\n",
            "Requirement already satisfied: joblib in /usr/local/lib/python3.6/dist-packages (from sacremoses->transformers) (0.16.0)\n",
            "Requirement already satisfied: chardet<4,>=3.0.2 in /usr/local/lib/python3.6/dist-packages (from requests->transformers) (3.0.4)\n",
            "Requirement already satisfied: idna<3,>=2.5 in /usr/local/lib/python3.6/dist-packages (from requests->transformers) (2.10)\n",
            "Requirement already satisfied: certifi>=2017.4.17 in /usr/local/lib/python3.6/dist-packages (from requests->transformers) (2020.6.20)\n",
            "Requirement already satisfied: urllib3!=1.25.0,!=1.25.1,<1.26,>=1.21.1 in /usr/local/lib/python3.6/dist-packages (from requests->transformers) (1.24.3)\n",
            "Building wheels for collected packages: sacremoses\n",
            "  Building wheel for sacremoses (setup.py) ... \u001b[?25l\u001b[?25hdone\n",
            "  Created wheel for sacremoses: filename=sacremoses-0.0.43-cp36-none-any.whl size=893260 sha256=846581663c05c7d98e957cddc0688e064b0bc3e556b2dfd62f5cd767ca67aa36\n",
            "  Stored in directory: /root/.cache/pip/wheels/29/3c/fd/7ce5c3f0666dab31a50123635e6fb5e19ceb42ce38d4e58f45\n",
            "Successfully built sacremoses\n",
            "Installing collected packages: sacremoses, tokenizers, sentencepiece, transformers\n",
            "Successfully installed sacremoses-0.0.43 sentencepiece-0.1.91 tokenizers-0.8.1rc1 transformers-3.0.2\n",
            "Collecting faiss-cpu\n",
            "\u001b[?25l  Downloading https://files.pythonhosted.org/packages/1d/84/9de38703486d9f00b1a63590887a318d08c52f10f768968bd7626aee75da/faiss_cpu-1.6.3-cp36-cp36m-manylinux2010_x86_64.whl (7.2MB)\n",
            "\u001b[K     |████████████████████████████████| 7.2MB 7.4MB/s \n",
            "\u001b[?25hRequirement already satisfied: numpy in /usr/local/lib/python3.6/dist-packages (from faiss-cpu) (1.18.5)\n",
            "Installing collected packages: faiss-cpu\n",
            "Successfully installed faiss-cpu-1.6.3\n"
          ],
          "name": "stdout"
        }
      ]
    },
    {
      "cell_type": "code",
      "metadata": {
        "id": "LroI_A2D-f4R",
        "colab_type": "code",
        "colab": {}
      },
      "source": [
        ""
      ],
      "execution_count": null,
      "outputs": []
    },
    {
      "cell_type": "code",
      "metadata": {
        "id": "BaBluEVG5pJb",
        "colab_type": "code",
        "colab": {}
      },
      "source": [
        "from transformers import AutoTokenizer, AutoModel\n",
        "import torch\n",
        "torch.set_grad_enabled(False)\n",
        "ctx_encoder = AutoModel.from_pretrained(\"google/bert_uncased_L-2_H-128_A-2\")\n",
        "ctx_tokenizer = AutoTokenizer.from_pretrained(\"google/bert_uncased_L-2_H-128_A-2\")"
      ],
      "execution_count": 13,
      "outputs": []
    },
    {
      "cell_type": "code",
      "metadata": {
        "id": "TjNlprM45xE4",
        "colab_type": "code",
        "colab": {
          "base_uri": "https://localhost:8080/",
          "height": 67,
          "referenced_widgets": [
            "c583db55c0b4496290f5e6c3aaebe3ac",
            "9a2147747c2f4120bc2163946bfd6992",
            "f4fde204d1da4032ba139b51664349ed",
            "cbaa91ba99b1429a8d69275aa41ae745",
            "12da17d73c4e4375b6abd87ad9f5e198",
            "063656b267714f95a3d2f9621d473f36",
            "548dc2dae3fc4867a438ccd220642d23",
            "102e8cf50f544febae08e2259eb36ea0"
          ]
        },
        "outputId": "5ae7a9db-e317-4872-96ae-a9bcd818e071"
      },
      "source": [
        "from nlp import load_dataset\n",
        "ds = load_dataset('crime_and_punish', split='train[:500]')\n",
        "ds_with_embeddings = ds.map(lambda example: {'embeddings': ctx_encoder(**ctx_tokenizer(example[\"line\"], return_tensors=\"pt\"))[0][0][0].numpy()})"
      ],
      "execution_count": 30,
      "outputs": [
        {
          "output_type": "display_data",
          "data": {
            "application/vnd.jupyter.widget-view+json": {
              "model_id": "c583db55c0b4496290f5e6c3aaebe3ac",
              "version_minor": 0,
              "version_major": 2
            },
            "text/plain": [
              "HBox(children=(FloatProgress(value=0.0, max=500.0), HTML(value='')))"
            ]
          },
          "metadata": {
            "tags": []
          }
        },
        {
          "output_type": "stream",
          "text": [
            "\n"
          ],
          "name": "stdout"
        }
      ]
    },
    {
      "cell_type": "code",
      "metadata": {
        "id": "Y03Afmqt6tDU",
        "colab_type": "code",
        "colab": {
          "base_uri": "https://localhost:8080/",
          "height": 104,
          "referenced_widgets": [
            "1ee057272ca94b34842810fed8709951",
            "5936a5c101fd4c76a1e29ea57d225c50",
            "3c8687eb91384ffda68c878e29d9fdb6",
            "beb8375e889740d4ad63f72f35a2eaf1",
            "d35a983b753140b9a115b2f9cd18f0d3",
            "1d5c4f0259184889b06e8604d688e6d9",
            "2c321ade6dc44479bdc5edfeec7c2567",
            "c1a71371ec4940d2b3f850cd5294bd8f"
          ]
        },
        "outputId": "68984875-de7b-44ad-bdca-b8d2908f6300"
      },
      "source": [
        "ds_with_embeddings.add_faiss_index(column='embeddings')"
      ],
      "execution_count": 31,
      "outputs": [
        {
          "output_type": "display_data",
          "data": {
            "application/vnd.jupyter.widget-view+json": {
              "model_id": "1ee057272ca94b34842810fed8709951",
              "version_minor": 0,
              "version_major": 2
            },
            "text/plain": [
              "HBox(children=(FloatProgress(value=0.0, max=1.0), HTML(value='')))"
            ]
          },
          "metadata": {
            "tags": []
          }
        },
        {
          "output_type": "stream",
          "text": [
            "\n"
          ],
          "name": "stdout"
        },
        {
          "output_type": "execute_result",
          "data": {
            "text/plain": [
              "Dataset(features: {'embeddings': Sequence(feature=Value(dtype='float32', id=None), length=-1, id=None), 'line': Value(dtype='string', id=None)}, num_rows: 500)"
            ]
          },
          "metadata": {
            "tags": []
          },
          "execution_count": 31
        }
      ]
    },
    {
      "cell_type": "code",
      "metadata": {
        "id": "71qZD2br9QOg",
        "colab_type": "code",
        "colab": {}
      },
      "source": [
        "q_encoder = AutoModel.from_pretrained(\"google/bert_uncased_L-2_H-128_A-2\")\n",
        "q_tokenizer = AutoTokenizer.from_pretrained(\"google/bert_uncased_L-2_H-128_A-2\")"
      ],
      "execution_count": 32,
      "outputs": []
    },
    {
      "cell_type": "code",
      "metadata": {
        "id": "sl0bYVgh9Wun",
        "colab_type": "code",
        "colab": {}
      },
      "source": [
        "question = \"sex\"\n",
        "question_embedding = q_encoder(**q_tokenizer(question, return_tensors=\"pt\"))[0][0][0].numpy()\n",
        "scores, retrieved_examples = ds_with_embeddings.get_nearest_examples('embeddings', question_embedding, k=10)"
      ],
      "execution_count": 37,
      "outputs": []
    },
    {
      "cell_type": "code",
      "metadata": {
        "id": "95QhBZ6p9b6u",
        "colab_type": "code",
        "colab": {
          "base_uri": "https://localhost:8080/",
          "height": 194
        },
        "outputId": "d5873b76-ff0f-43b0-f0f4-88c657454bc3"
      },
      "source": [
        "retrieved_examples[\"line\"]"
      ],
      "execution_count": 38,
      "outputs": [
        {
          "output_type": "execute_result",
          "data": {
            "text/plain": [
              "['nails.\\r\\n',\n",
              " '\\r\\n',\n",
              " '\\r\\n',\n",
              " '\\r\\n',\n",
              " '\\r\\n',\n",
              " '\\r\\n',\n",
              " '\\r\\n',\n",
              " '\\r\\n',\n",
              " '\\r\\n',\n",
              " '\\r\\n']"
            ]
          },
          "metadata": {
            "tags": []
          },
          "execution_count": 38
        }
      ]
    },
    {
      "cell_type": "code",
      "metadata": {
        "id": "f__VTaD4-qBn",
        "colab_type": "code",
        "colab": {}
      },
      "source": [
        "ds_with_embeddings.save_faiss_index('embeddings', 'my_index.faiss')"
      ],
      "execution_count": 39,
      "outputs": []
    },
    {
      "cell_type": "code",
      "metadata": {
        "id": "0mtEaJWp-ry_",
        "colab_type": "code",
        "colab": {}
      },
      "source": [
        "ds = load_dataset('crime_and_punish', split='train[:500]')\n",
        "ds.load_faiss_index('embeddings', 'my_index.faiss')"
      ],
      "execution_count": 41,
      "outputs": []
    }
  ]
}